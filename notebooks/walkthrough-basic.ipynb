{
 "cells": [
  {
   "cell_type": "raw",
   "id": "75fb186f-9798-42ac-a425-1390c339c021",
   "metadata": {},
   "source": [
    "---\n",
    "title: Dolphin demo walkthrough\n",
    "author: Scott Staniewicz\n",
    "format:\n",
    "  html:\n",
    "    embed-resources: true\n",
    "    echo: false\n",
    "    theme: materia\n",
    "jupyter: python3\n",
    "\n",
    "---"
   ]
  },
  {
   "cell_type": "code",
   "execution_count": 1,
   "id": "1f5e11b0-fe34-48c8-a022-ffda3ec97b19",
   "metadata": {},
   "outputs": [],
   "source": [
    "# | echo: false\n",
    "import os\n",
    "import subprocess\n",
    "from os import fspath\n",
    "from pathlib import Path\n",
    "\n",
    "import matplotlib.pyplot as plt\n",
    "import numpy as np\n",
    "\n",
    "from osgeo import gdal\n",
    "\n",
    "\n",
    "%load_ext autoreload\n",
    "%autoreload 2\n",
    "\n",
    "%matplotlib inline"
   ]
  },
  {
   "cell_type": "markdown",
   "id": "68148d83-cc69-45f8-aa27-31b0e9caf3e9",
   "metadata": {},
   "source": [
    "# Dolphin basic walkthrough\n",
    "\n",
    "This notebook demonstrates the basic usage of the `dolphin` command line tool to execute the stack-based phase linking workflow.\n",
    "In this notebook, we will\n",
    "\n",
    "- Prepare a configuration file for a stack of coregistered single-look complex (SLC) radar images with `dolphin config`\n",
    "- Run this configuration file with `dolphin run` \n",
    "- Inspect the resulting output interferograms\n",
    "- Show the most common parameters you may want to change or customize\n"
   ]
  },
  {
   "cell_type": "markdown",
   "id": "278134de",
   "metadata": {},
   "source": [
    "\n",
    "## Setup\n",
    "\n",
    "We first need to install `dolphin` as outlined in the [Getting Started](https://dolphin-insar.readthedocs.io/en/getting-started) section of the documentation. \n",
    "We can check that we have the command line tool correctly installed by running"
   ]
  },
  {
   "cell_type": "code",
   "execution_count": 2,
   "id": "f17e1738",
   "metadata": {},
   "outputs": [
    {
     "name": "stdout",
     "output_type": "stream",
     "text": [
      "usage: dolphin [-h] {run,config} ...\n",
      "\n",
      "options:\n",
      "  -h, --help    show this help message and exit\n",
      "\n",
      "subcommands:\n",
      "  {run,config}\n"
     ]
    }
   ],
   "source": [
    "# | echo: true\n",
    "!dolphin --help"
   ]
  },
  {
   "cell_type": "markdown",
   "id": "0aa61da3",
   "metadata": {},
   "source": [
    "or by importing dolphin in python"
   ]
  },
  {
   "cell_type": "code",
   "execution_count": 3,
   "id": "6fbdc0e5",
   "metadata": {},
   "outputs": [
    {
     "name": "stdout",
     "output_type": "stream",
     "text": [
      "0.0.3.post1.dev22+gd29c021.d20230202\n"
     ]
    }
   ],
   "source": [
    "# | echo: true\n",
    "import dolphin\n",
    "\n",
    "print(dolphin.__version__)"
   ]
  },
  {
   "cell_type": "markdown",
   "id": "8c5d63e2",
   "metadata": {},
   "source": [
    "If you have a GPU available to you, you can follow the extra installation set up so that the GPU verion of the workflow run.\n",
    "This can be 5-20x faster than the CPU version, depending on the sie of your workstation."
   ]
  },
  {
   "cell_type": "markdown",
   "id": "285a8f28",
   "metadata": {},
   "source": [
    "## Input dataset\n",
    "\n",
    "We will use a stack of Sentinel-1 SLCs from descending track 87. \n",
    "These were produced by [COMPASS](https://github.com/opera-adt/COMPASS) and are available for download on Zenodo (TODO).\n",
    "\n",
    "A brief walkthrough of how to produce these is included in the Appendix"
   ]
  },
  {
   "cell_type": "code",
   "execution_count": 4,
   "id": "0f6e12c0",
   "metadata": {},
   "outputs": [
    {
     "name": "stdout",
     "output_type": "stream",
     "text": [
      "dolphin_config.yaml \u001b[1m\u001b[36moutput\u001b[m\u001b[m              \u001b[1m\u001b[36mscratch\u001b[m\u001b[m             \u001b[1m\u001b[36mslcs\u001b[m\u001b[m\n"
     ]
    }
   ],
   "source": [
    "!mkdir -p data/hawaii\n",
    "os.chdir(\"data/hawaii\")"
   ]
  },
  {
   "cell_type": "markdown",
   "id": "b68bd720",
   "metadata": {},
   "source": [
    "In the `slc` directory, we have stored the NetCDF-format SLCs:"
   ]
  },
  {
   "cell_type": "code",
   "execution_count": 7,
   "id": "460e3d3a",
   "metadata": {},
   "outputs": [
    {
     "name": "stdout",
     "output_type": "stream",
     "text": [
      "t087_185683_iw2_20180210_VV.h5 t087_185684_iw2_20180210_VV.h5\n",
      "t087_185683_iw2_20180222_VV.h5 t087_185684_iw2_20180222_VV.h5\n",
      "t087_185683_iw2_20180306_VV.h5 t087_185684_iw2_20180306_VV.h5\n",
      "t087_185683_iw2_20180318_VV.h5 t087_185684_iw2_20180318_VV.h5\n",
      "t087_185683_iw2_20180330_VV.h5 t087_185684_iw2_20180330_VV.h5\n",
      "t087_185683_iw2_20180411_VV.h5 t087_185684_iw2_20180411_VV.h5\n",
      "t087_185683_iw2_20180423_VV.h5 t087_185684_iw2_20180423_VV.h5\n",
      "t087_185683_iw2_20180505_VV.h5 t087_185684_iw2_20180505_VV.h5\n",
      "t087_185683_iw2_20180511_VV.h5 t087_185684_iw2_20180511_VV.h5\n",
      "t087_185683_iw2_20180517_VV.h5 t087_185684_iw2_20180517_VV.h5\n",
      "t087_185683_iw2_20180523_VV.h5 t087_185684_iw2_20180523_VV.h5\n",
      "t087_185683_iw2_20180529_VV.h5 t087_185684_iw2_20180529_VV.h5\n",
      "t087_185683_iw2_20180604_VV.h5 t087_185684_iw2_20180604_VV.h5\n",
      "t087_185683_iw2_20180610_VV.h5 t087_185684_iw2_20180610_VV.h5\n",
      "t087_185683_iw2_20180616_VV.h5 t087_185684_iw2_20180616_VV.h5\n"
     ]
    }
   ],
   "source": [
    "!ls slcs"
   ]
  },
  {
   "cell_type": "markdown",
   "id": "8ec7f72a",
   "metadata": {},
   "source": [
    "We have 30 total files from 2018. The naming convention comes from COMPASS, where, for example, `t087_185683_iw2_20180210_VV.h5` means\n",
    "- `t087` is Sentinel-1 track 87\n",
    "- 185683 the Burst IDs from [ESA's Burst database](https://sentinel.esa.int/web/sentinel/-/publication-of-brust-id-maps-for-copernicus-sentinel-1/1.1).\n",
    "- `iw2` indicates these are from the middle subswath (since the \"Burst ID\" is repeated for subswaths IW1,2,3.)\n",
    "- `20180210` is the acquisition date\n",
    "- `VV` is the polarization\n",
    "\n",
    "We have 15 dates from the two adjacent bursts `185683` and `185684`. \n",
    "We will first process just one stack for demonstration; however, you can input multiple burst stacks from COMPASS into `dolphin`, and it will form burst-wise interferograms and stitch them before unwrapping."
   ]
  },
  {
   "cell_type": "markdown",
   "id": "d595e716",
   "metadata": {},
   "source": [
    "Let's make a configuration file for all of the 185683 bursts:"
   ]
  },
  {
   "cell_type": "code",
   "execution_count": 10,
   "id": "79f9734d",
   "metadata": {},
   "outputs": [
    {
     "name": "stdout",
     "output_type": "stream",
     "text": [
      "[02/03 11:00:10] [INFO config.py] CSLC files look like OPERA files, setting subdataset to science/SENTINEL1/CSLC/grids/VV.\n",
      "Saving configuration to dolphin_config.yaml\n"
     ]
    }
   ],
   "source": [
    "!dolphin config --slc-files slcs/*185683*.h5"
   ]
  },
  {
   "cell_type": "markdown",
   "id": "20dc4cce",
   "metadata": {},
   "source": [
    "If you need more fine-grained control of which SLCs to include, you can list the file locations in a text file separated by new lines and refer to it with an `@` symbol. For example: "
   ]
  },
  {
   "cell_type": "code",
   "execution_count": 19,
   "id": "8d48bdea",
   "metadata": {},
   "outputs": [
    {
     "name": "stdout",
     "output_type": "stream",
     "text": [
      "[02/03 11:10:33] [INFO config.py] CSLC files look like OPERA files, setting subdataset to science/SENTINEL1/CSLC/grids/VV.\n",
      "Saving configuration to new_config.yaml\n"
     ]
    }
   ],
   "source": [
    "# Store the files we want in a text file called slc_list.txt\n",
    "# Here we're just using `ls` to all the 185683 SLCs\n",
    "!ls slcs/*185683* > slc_list.txt\n",
    "\n",
    "# We use the same `--slc-files` argument, but now use an @ to say look inside the file\n",
    "!dolphin config --slc-files @slc_list.txt -o new_config.yaml"
   ]
  },
  {
   "cell_type": "markdown",
   "id": "cd261ce4",
   "metadata": {},
   "source": [
    "This is an equivalent way to point to the SLCs you want to process. The configs should be the same (except for the creation time, which is logged):"
   ]
  },
  {
   "cell_type": "code",
   "execution_count": 20,
   "id": "e169f63f",
   "metadata": {},
   "outputs": [
    {
     "name": "stdout",
     "output_type": "stream",
     "text": [
      "74c74\n",
      "< creation_time_utc: '2023-02-03T16:10:33.742851'\n",
      "---\n",
      "> creation_time_utc: '2023-02-03T16:00:10.885488'\n"
     ]
    }
   ],
   "source": [
    "!diff new_config.yaml dolphin_config.yaml"
   ]
  },
  {
   "cell_type": "markdown",
   "id": "8f4d8024",
   "metadata": {},
   "source": [
    "This command created a YAML file in our current directory. Most of the contents were filled in by the workflow defaults:"
   ]
  },
  {
   "cell_type": "code",
   "execution_count": 12,
   "id": "f856e304",
   "metadata": {},
   "outputs": [
    {
     "name": "stdout",
     "output_type": "stream",
     "text": [
      "workflow_name: stack\n",
      "inputs:\n",
      "  cslc_file_list:\n",
      "  - slcs/t087_185683_iw2_20180210_VV.h5\n",
      "  - slcs/t087_185683_iw2_20180222_VV.h5\n",
      "  - slcs/t087_185683_iw2_20180306_VV.h5\n",
      "  - slcs/t087_185683_iw2_20180318_VV.h5\n",
      "  - slcs/t087_185683_iw2_20180330_VV.h5\n",
      "  - slcs/t087_185683_iw2_20180411_VV.h5\n",
      "  - slcs/t087_185683_iw2_20180423_VV.h5\n",
      "  - slcs/t087_185683_iw2_20180505_VV.h5\n",
      "  - slcs/t087_185683_iw2_20180511_VV.h5\n",
      "  - slcs/t087_185683_iw2_20180517_VV.h5\n",
      "  - slcs/t087_185683_iw2_20180523_VV.h5\n",
      "  - slcs/t087_185683_iw2_20180529_VV.h5\n",
      "  - slcs/t087_185683_iw2_20180604_VV.h5\n",
      "  - slcs/t087_185683_iw2_20180610_VV.h5\n",
      "  - slcs/t087_185683_iw2_20180616_VV.h5\n",
      "  subdataset: science/SENTINEL1/CSLC/grids/VV\n",
      "  cslc_date_fmt: '%Y%m%d'\n",
      "  mask_files: []\n",
      "outputs:\n",
      "  output_format: NetCDF\n",
      "  scratch_directory: /Users/staniewi/repos/dolphin/notebooks/data/hawaii/scratch\n",
      "  output_directory: /Users/staniewi/repos/dolphin/notebooks/data/hawaii/output\n",
      "  output_resolution:\n",
      "  strides:\n",
      "    x: 1\n",
      "    y: 1\n",
      "  hdf5_creation_options:\n",
      "    chunks:\n",
      "    - 128\n",
      "    - 128\n",
      "    compression: gzip\n",
      "    compression_opts: 4\n",
      "    shuffle: true\n",
      "  gtiff_creation_options:\n",
      "  - COMPRESS=DEFLATE\n",
      "  - ZLEVEL=4\n",
      "  - TILED=YES\n",
      "  - BLOCKXSIZE=128\n",
      "  - BLOCKYSIZE=128\n",
      "ps_options:\n",
      "  directory: /Users/staniewi/repos/dolphin/notebooks/data/hawaii/scratch/PS\n",
      "  output_file: /Users/staniewi/repos/dolphin/notebooks/data/hawaii/scratch/PS/ps_pixels.tif\n",
      "  amp_dispersion_file: /Users/staniewi/repos/dolphin/notebooks/data/hawaii/scratch/PS/amp_dispersion.tif\n",
      "  amp_mean_file: /Users/staniewi/repos/dolphin/notebooks/data/hawaii/scratch/PS/amp_mean.tif\n",
      "  amp_dispersion_threshold: 0.35\n",
      "phase_linking:\n",
      "  directory: /Users/staniewi/repos/dolphin/notebooks/data/hawaii/scratch/linked_phase\n",
      "  ministack_size: 15\n",
      "  half_window:\n",
      "    x: 11\n",
      "    y: 5\n",
      "interferogram_network:\n",
      "  directory: /Users/staniewi/repos/dolphin/notebooks/data/hawaii/scratch/interferograms\n",
      "  reference_idx: 0\n",
      "  max_bandwidth:\n",
      "  max_temporal_baseline:\n",
      "  network_type: single-reference\n",
      "unwrap_options:\n",
      "  run_unwrap: false\n",
      "  directory: /Users/staniewi/repos/dolphin/notebooks/data/hawaii/scratch/unwrap\n",
      "  unwrap_method: snaphu\n",
      "  tiles:\n",
      "  - 1\n",
      "  - 1\n",
      "  init_method: mcf\n",
      "worker_settings:\n",
      "  gpu_enabled: true\n",
      "  gpu_id: 0\n",
      "  n_workers: 16\n",
      "  max_ram_gb: 1.0\n",
      "creation_time_utc: '2023-02-03T16:00:10.885488'\n",
      "dolphin_version: 0.0.3.post1.dev22+gd29c021.d20230202\n"
     ]
    }
   ],
   "source": [
    "!cat dolphin_config.yaml"
   ]
  },
  {
   "cell_type": "markdown",
   "id": "86b68b7c",
   "metadata": {},
   "source": [
    "## Running the workflow\n",
    "\n",
    "Now that we have created the `dolphin_config.yaml` file, we can run it using `dolphin run`"
   ]
  },
  {
   "cell_type": "code",
   "execution_count": 15,
   "id": "d2cdb4cc",
   "metadata": {},
   "outputs": [
    {
     "name": "stdout",
     "output_type": "stream",
     "text": [
      "[02/03 11:07:36] [INFO s1_disp_stack.py] Running wrapped phase estimation\n",
      "[02/03 11:07:36] [INFO wrapped_phase.py] Creating persistent scatterer file /Users/staniewi/repos/dolphin/notebooks/data/hawaii/scratch/PS/ps_pixels.tif\n",
      "100%|███████████████████████████████████████████| 10/10 [00:41<00:00,  4.14s/it]\n",
      "[02/03 11:08:19] [INFO ps.py] Waiting to write 0 blocks of data.\n",
      "[02/03 11:08:19] [INFO ps.py] Finished writing out PS files\n",
      "[02/03 11:08:19] [INFO wrapped_phase.py] Running sequential EMI step in /Users/staniewi/repos/dolphin/notebooks/data/hawaii/scratch/linked_phase\n",
      "[02/03 11:08:19] [INFO sequential.py] VRTStack(15 bands, outfile=/Users/staniewi/repos/dolphin/notebooks/data/hawaii/scratch/slc_stack.vrt): from /Users/staniewi/repos/dolphin/notebooks/data/hawaii/slcs/t087_185683_iw2_20180210_VV.h5 to /Users/staniewi/repos/dolphin/notebooks/data/hawaii/slcs/t087_185683_iw2_20180616_VV.h5\n",
      "[02/03 11:08:20] [INFO sequential.py] Processing 15 files + 0 compressed. Output folder: /Users/staniewi/repos/dolphin/notebooks/data/hawaii/scratch/linked_phase/20180210_20180616\n",
      "[02/03 11:08:20] [INFO sequential.py] VRTStack(15 bands, outfile=/Users/staniewi/repos/dolphin/notebooks/data/hawaii/scratch/linked_phase/20180210_20180616/20180210_20180616.vrt): from t087_185683_iw2_20180210_VV.h5 to t087_185683_iw2_20180616_VV.h5\n",
      " 10%|████▎                                     | 20/195 [00:08<01:21,  2.14it/s]^C\n"
     ]
    }
   ],
   "source": [
    "!dolphin run dolphin_config.yaml"
   ]
  },
  {
   "cell_type": "markdown",
   "id": "00dfec96",
   "metadata": {},
   "source": [
    "## Appendix: Producing stacks of Sentinel-1 geocoded SLCs"
   ]
  },
  {
   "cell_type": "markdown",
   "id": "d2d45494",
   "metadata": {},
   "source": [
    "TODO: show the commands for `s1_geocode_stack`\n",
    "\n",
    "- DEM download\n",
    "- ASF download\n",
    "- `eof`\n",
    "- burst DB, and select bursts\n",
    "\n",
    "```\n",
    "~/repos/COMPASS/src/compass/s1_geocode_stack.py -d ../dem.tif --orbit-dir ../orbits/ -s ../data/ -w stack-no-lut  -b `paste -sd' ' < bursts.txt` -ed 20180901\n",
    "```"
   ]
  },
  {
   "cell_type": "markdown",
   "id": "7d6ef1f3",
   "metadata": {},
   "source": []
  }
 ],
 "metadata": {
  "kernelspec": {
   "display_name": "base",
   "language": "python",
   "name": "python3"
  },
  "language_info": {
   "codemirror_mode": {
    "name": "ipython",
    "version": 3
   },
   "file_extension": ".py",
   "mimetype": "text/x-python",
   "name": "python",
   "nbconvert_exporter": "python",
   "pygments_lexer": "ipython3",
   "version": "3.10.8"
  },
  "vscode": {
   "interpreter": {
    "hash": "2e904e8f358a070fd0fa73a45ac9c066785dc2c1dd06304a350c3685626a56a0"
   }
  }
 },
 "nbformat": 4,
 "nbformat_minor": 5
}
