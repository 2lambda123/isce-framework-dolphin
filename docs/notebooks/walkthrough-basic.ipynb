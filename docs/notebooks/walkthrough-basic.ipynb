{
 "cells": [
  {
   "cell_type": "markdown",
   "id": "68148d83-cc69-45f8-aa27-31b0e9caf3e9",
   "metadata": {},
   "source": [
    "# Dolphin basic walkthrough\n",
    "\n",
    "This notebook demonstrates the basic usage of the `dolphin` command line tool to execute the stack-based phase linking workflow.\n",
    "In this notebook, we will\n",
    "\n",
    "- Download geocoded, co-registered single-look complex (CSLC) radar images from [ASF](https://search.asf.alaska.edu/)\n",
    "- Prepare a configuration file for a stack of coregistered single-look complex (SLC) radar images with `dolphin config`\n",
    "- Run this configuration file with `dolphin run` \n",
    "- Inspect the resulting output interferograms\n",
    "- Show the most common parameters you may want to change or customize\n"
   ]
  },
  {
   "cell_type": "markdown",
   "id": "278134de",
   "metadata": {},
   "source": [
    "\n",
    "## Setup\n",
    "\n",
    "We first need to install `dolphin` as outlined in the [Getting Started](https://dolphin-insar.readthedocs.io/en/getting-started) section of the documentation. \n",
    "\n",
    "If you are running this in Colab, you can install [`dolphin` using `pip`](https://pypi.org/project/dolphin/)\n"
   ]
  },
  {
   "cell_type": "code",
   "execution_count": null,
   "id": "43fa5598",
   "metadata": {},
   "outputs": [],
   "source": [
    "!pip install dolphin"
   ]
  },
  {
   "cell_type": "markdown",
   "id": "efb9c4d2",
   "metadata": {},
   "source": [
    "We can check that we have the command line tool correctly installed by running:"
   ]
  },
  {
   "cell_type": "code",
   "execution_count": 3,
   "id": "f17e1738",
   "metadata": {},
   "outputs": [
    {
     "name": "stdout",
     "output_type": "stream",
     "text": [
      "usage: dolphin [-h] [--version] {run,config,unwrap} ...\n",
      "\n",
      "options:\n",
      "  -h, --help           show this help message and exit\n",
      "  --version            show program's version number and exit\n",
      "\n",
      "subcommands:\n",
      "  {run,config,unwrap}\n"
     ]
    }
   ],
   "source": [
    "!dolphin --help"
   ]
  },
  {
   "cell_type": "markdown",
   "id": "0aa61da3",
   "metadata": {},
   "source": [
    "or by importing dolphin in python"
   ]
  },
  {
   "cell_type": "code",
   "execution_count": 1,
   "id": "6fbdc0e5",
   "metadata": {},
   "outputs": [
    {
     "name": "stdout",
     "output_type": "stream",
     "text": [
      "dolphin version: 0.26.0\n",
      "\n",
      "Python deps:\n",
      "        h5py: 3.11.0\n",
      "         jax: 0.4.26\n",
      "       numba: 0.58.1\n",
      "       numpy: 1.26.2\n",
      " opera-utils: 0.6.0.post1.dev4+g7626988\n",
      "    pydantic: 2.8.2\n",
      "      pyproj: 3.6.1\n",
      "    rasterio: 1.3.10\n",
      " ruamel.yaml: 0.17.21\n",
      "       scipy: 1.13.0\n",
      "threadpoolctl: 3.2.0\n",
      "        tqdm: 4.66.1\n",
      "  osgeo.gdal: 3.8.5\n",
      "\n",
      "System:\n",
      "      python: 3.11.6 | packaged by conda-forge | (main, Oct  3 2023, 10:37:07) [Clang 15.0.7 ]\n",
      "  executable: /Users/staniewi/miniconda3/envs/mapping-311/bin/python\n",
      "     machine: macOS-14.6.1-arm64-arm-64bit\n",
      "optional GPU info:\n",
      "         jax: 0.4.26\n",
      "gpu_is_available: False\n"
     ]
    }
   ],
   "source": [
    "import dolphin\n",
    "\n",
    "dolphin.show_versions()"
   ]
  },
  {
   "cell_type": "markdown",
   "id": "8c5d63e2",
   "metadata": {},
   "source": [
    "If you have a GPU available to you, you can follow the [extra installation set up](https://dolphin-insar.readthedocs.io/en/latest/gpu-setup/) so that the GPU verion of the workflow run.\n",
    "This can be 5-20x faster than the CPU version, depending on the size of your workstation.\n",
    "Here we will be processing a relatively small area, so the CPU will suffice."
   ]
  },
  {
   "cell_type": "markdown",
   "id": "285a8f28",
   "metadata": {},
   "source": [
    "## Input dataset\n",
    "\n",
    "To find input data, you can use the [ASF search UI](https://search.asf.alaska.edu/) to explore and get a list of URLs to download; for our purposes, we will use the [OPERA Co-regisred Single-look Complex product](https://www.jpl.nasa.gov/go/opera/products/cslc-product-suite), which `dolphin` can directly process.\n",
    "\n",
    "The helper functions in the [`opera-utils`](https://github.com/opera-adt/opera-utils) library provide wrappers over the [ASF library](https://github.com/asfadmin/Discovery-asf_search) to make it easy to download OPERA CSLCs over a certain region.\n",
    "\n",
    "We will use a stack of Sentinel-1 SLCs from descending track 78 over West Texas, where wastewater injection lead to a huge jump in surface displacement in 2022:"
   ]
  },
  {
   "cell_type": "code",
   "execution_count": null,
   "id": "e9faef96",
   "metadata": {},
   "outputs": [],
   "source": [
    "!pip install opera-utils asf_search"
   ]
  },
  {
   "cell_type": "markdown",
   "id": "bd430ecc",
   "metadata": {},
   "source": [
    "Since ASF requires a login to download data, you must add your username/password here:"
   ]
  },
  {
   "cell_type": "code",
   "execution_count": null,
   "id": "9e93922a",
   "metadata": {},
   "outputs": [],
   "source": [
    "asf_username = \"USERNAME-CHANGEME\"\n",
    "asf_password = \"PASSWORD-CHANGEME\""
   ]
  },
  {
   "cell_type": "code",
   "execution_count": null,
   "id": "9c42f9f4",
   "metadata": {},
   "outputs": [],
   "source": [
    "import subprocess\n",
    "from contextlib import chdir\n",
    "from pathlib import Path\n",
    "\n",
    "import opera_utils.download\n",
    "\n",
    "aoi = \"POLYGON((-102.8136 31.3039,-102.5927 31.3039,-102.5927 31.532,-102.8136 31.532,-102.8136 31.3039))\"\n",
    "results, options = opera_utils.download.search_cslcs(\n",
    "    aoi_polygon=aoi,\n",
    "    # We want to have the same set of dates for each Burst ID (spatial footprint)\n",
    "    check_missing_data=True,\n",
    "    track=78,\n",
    "    start=\"2021-06-01\",\n",
    "    end=\"2022-06-01\",\n",
    ")\n",
    "best_option = options[0]\n",
    "\n",
    "slc_dir = Path(\"input_slcs\")\n",
    "slc_dir.mkdir(exist_ok=True)\n",
    "url_file = slc_dir / \"urls.txt\"\n",
    "with open(url_file, \"w\") as f:\n",
    "    f.write(\"\\n\".join(best_option.inputs))\n",
    "\n",
    "\n",
    "with chdir(slc_dir):\n",
    "    # Download 4 in parallel\n",
    "    subprocess.run(f\"cat urls.txt | xargs  -P4 -n1 wget --user {asf_username} --password {asf_password}\", shell=True, check=True)"
   ]
  },
  {
   "cell_type": "markdown",
   "id": "b68bd720",
   "metadata": {},
   "source": [
    "In the `input_slcs` directory, we have stored the NetCDF-format SLCs:"
   ]
  },
  {
   "cell_type": "code",
   "execution_count": 7,
   "id": "460e3d3a",
   "metadata": {},
   "outputs": [
    {
     "name": "stdout",
     "output_type": "stream",
     "text": [
      "t042_088905_iw1_20221107.h5  t042_088906_iw1_20221107.h5\n",
      "t042_088905_iw1_20221119.h5  t042_088906_iw1_20221119.h5\n",
      "t042_088905_iw1_20221201.h5  t042_088906_iw1_20221201.h5\n",
      "t042_088905_iw1_20221213.h5  t042_088906_iw1_20221213.h5\n"
     ]
    }
   ],
   "source": [
    "!ls input_slcs"
   ]
  },
  {
   "cell_type": "markdown",
   "id": "8ec7f72a",
   "metadata": {},
   "source": [
    "See the [OPERA CSLC documentation](https://d2pn8kiwq2w21t.cloudfront.net/documents/OPERA_CSLC-S1_ProductSpec_v1.0.0_D-108278_Initial_2023-09-11_URS321269.pdf) for the full filename convention, but the main points are\n",
    "\n",
    "- `T078` is Sentinel-1 track (relative orbit) 78\n",
    "- 088905 the Burst IDs from [ESA's Burst database](https://sentinel.esa.int/web/sentinel/-/publication-of-brust-id-maps-for-copernicus-sentinel-1/1.1).\n",
    "- `iw1` indicates these are from the first subswath (since the \"Burst ID\" is repeated for subswaths IW1,2,3.)\n",
    "- `20221119` is the acquisition date formatted as `%Y%m%d`\n",
    "\n",
    "Note that we specified the data we want is in `/data/VV`. This is not necessary for other SLC formats (e.g. binary files from ISCE2).\n",
    "\n",
    "You can process one single stack, or multiple geocoded stacks. If you have different spatial regions, `dolphin` will form burst-wise interferograms and stitch them before unwrapping."
   ]
  },
  {
   "cell_type": "markdown",
   "id": "d595e716",
   "metadata": {},
   "source": [
    "Let's make a configuration file for all of the bursts:"
   ]
  },
  {
   "cell_type": "code",
   "execution_count": 12,
   "id": "79f9734d",
   "metadata": {},
   "outputs": [
    {
     "name": "stdout",
     "output_type": "stream",
     "text": [
      "Saving configuration to dolphin_config.yaml\n"
     ]
    }
   ],
   "source": [
    "!dolphin config --slc-files input_slcs/*.h5 --subdataset \"/data/VV\""
   ]
  },
  {
   "cell_type": "markdown",
   "id": "20dc4cce",
   "metadata": {},
   "source": [
    "If you need more fine-grained control of which SLCs to include, you can list the file locations in a text file separated by new lines and refer to it with an `@` symbol. For example: "
   ]
  },
  {
   "cell_type": "code",
   "execution_count": 13,
   "id": "8d48bdea",
   "metadata": {},
   "outputs": [
    {
     "name": "stdout",
     "output_type": "stream",
     "text": [
      "Saving configuration to new_config.yaml\n"
     ]
    }
   ],
   "source": [
    "# Store the files we want in a text file called slc_list.txt\n",
    "# Here we're just using `ls` to all the 185683 SLCs\n",
    "!ls input_slcs/*h5 > slc_list.txt\n",
    "\n",
    "# We use the same `--slc-files` argument, but now use an @ to say look inside the file\n",
    "!dolphin config --slc-files @slc_list.txt -o new_config.yaml --subdataset \"/data/VV\""
   ]
  },
  {
   "cell_type": "markdown",
   "id": "cd261ce4",
   "metadata": {},
   "source": [
    "This is an equivalent way to point to the SLCs you want to process. The configs should be the same (except for the creation time, which is logged):"
   ]
  },
  {
   "cell_type": "code",
   "execution_count": 14,
   "id": "e169f63f",
   "metadata": {},
   "outputs": [
    {
     "name": "stdout",
     "output_type": "stream",
     "text": [
      "162c162\n",
      "< creation_time_utc: '2023-10-03T17:14:25.047623'\n",
      "---\n",
      "> creation_time_utc: '2023-10-03T17:14:17.143600'\n"
     ]
    }
   ],
   "source": [
    "!diff new_config.yaml dolphin_config.yaml"
   ]
  },
  {
   "cell_type": "markdown",
   "id": "8f4d8024",
   "metadata": {},
   "source": [
    "This command created a YAML file in our current directory. Most of the contents were filled in by the workflow defaults:"
   ]
  },
  {
   "cell_type": "code",
   "execution_count": 16,
   "id": "f856e304",
   "metadata": {},
   "outputs": [
    {
     "name": "stdout",
     "output_type": "stream",
     "text": [
      "input_options:\n",
      "  # If passing HDF5/NetCDF files, subdataset to use from CSLC files. .\n",
      "  #   Type: string | null.\n",
      "  subdataset: /data/VV\n",
      "  # Format of dates contained in CSLC filenames.\n",
      "  #   Type: string.\n",
      "  cslc_date_fmt: '%Y%m%d'\n",
      "# REQUIRED: list of CSLC files, or newline-delimited file containing list of CSLC files.\n",
      "#   Type: array.\n",
      "cslc_file_list:\n",
      "  - input_slcs/t042_088905_iw1_20221107.h5\n",
      "  - input_slcs/t042_088906_iw1_20221107.h5\n",
      "  - input_slcs/t042_088905_iw1_20221119.h5\n",
      "  - input_slcs/t042_088906_iw1_20221119.h5\n",
      "  - input_slcs/t042_088905_iw1_20221201.h5\n",
      "  - input_slcs/t042_088906_iw1_20221201.h5\n",
      "  - input_slcs/t042_088905_iw1_20221213.h5\n",
      "  - input_slcs/t042_088906_iw1_20221213.h5\n",
      "# Byte mask file used to ignore low correlation/bad data (e.g water mask). Convention is 0\n",
      "#   for no data/invalid, and 1 for good data. Dtype must be uint8.\n"
     ]
    }
   ],
   "source": [
    "!head -20 dolphin_config.yaml"
   ]
  },
  {
   "cell_type": "markdown",
   "id": "ee395f49-a08c-4ac9-8c26-2b9b0da6882e",
   "metadata": {},
   "source": [
    "You can browse the YAML file for all the configuration options."
   ]
  },
  {
   "cell_type": "markdown",
   "id": "3a853064-c26b-4a90-ab41-3bc7af2d3682",
   "metadata": {},
   "source": [
    "### Common configuration\n",
    "\n",
    "#### Strides\n",
    "You can create a downsampled version of the output using `--strides`. \n",
    "This will save time/space by creation an output with coarser pixel spacing than your SLCs.\n",
    "For COMPASS outputs, adding `--strides 6 3` will convert the inputs at (5m, 10m) in `(x, y)` (aka `(easting, northing)`) to a (30 meter, 30 meter) output.\n",
    "\n",
    "\n",
    "#### Specify the working directory\n",
    "\n",
    "Use `--working-directory` to save all rasters to a different directory other than the one you call `dolphin run` from.\n",
    "\n",
    "#### Specify how many CPUs to use\n",
    "\n",
    "Use `--threads-per-worker` to specify the number of CPUs you would like the workflow to use.\n",
    "\n",
    "####  (For geocoded SLCs) process different burst stacks in parallel\n",
    "\n",
    "By adding the `--n-parallel-bursts`, you can process separate geocoded bursts at the same time (assuming sufficient resources are available).\n",
    "\n",
    "#### Phase unwrapping\n",
    "\n",
    "`dolphin` supports multiple options for phase unwrapping. Here, we will use the [Python wrapper for SNAPHU](https://github.com/isce-framework/snaphu-py), one of the most widely used phase unwrapping algorithms.\n"
   ]
  },
  {
   "cell_type": "code",
   "execution_count": 2,
   "id": "f5af0960",
   "metadata": {},
   "outputs": [
    {
     "name": "stderr",
     "output_type": "stream",
     "text": [
      "/Users/staniewi/miniconda3/envs/mapping-311/lib/python3.11/pty.py:89: RuntimeWarning: os.fork() was called. os.fork() is incompatible with multithreaded code, and JAX is multithreaded, so this will likely lead to a deadlock.\n",
      "  pid, fd = os.forkpty()\n"
     ]
    },
    {
     "name": "stdout",
     "output_type": "stream",
     "text": [
      "Requirement already satisfied: snaphu in /Users/staniewi/miniconda3/envs/mapping-311/lib/python3.11/site-packages (0.4.1.dev2)\n",
      "Requirement already satisfied: numpy>=1.20 in /Users/staniewi/miniconda3/envs/mapping-311/lib/python3.11/site-packages (from snaphu) (1.26.2)\n",
      "\n",
      "\u001b[1m[\u001b[0m\u001b[34;49mnotice\u001b[0m\u001b[1;39;49m]\u001b[0m\u001b[39;49m A new release of pip is available: \u001b[0m\u001b[31;49m24.1\u001b[0m\u001b[39;49m -> \u001b[0m\u001b[32;49m24.2\u001b[0m\n",
      "\u001b[1m[\u001b[0m\u001b[34;49mnotice\u001b[0m\u001b[1;39;49m]\u001b[0m\u001b[39;49m To update, run: \u001b[0m\u001b[32;49mpip install --upgrade pip\u001b[0m\n"
     ]
    }
   ],
   "source": [
    "!pip install snaphu"
   ]
  },
  {
   "cell_type": "markdown",
   "id": "985da911-688a-4c2d-ab5d-76be398332be",
   "metadata": {},
   "source": [
    "### Full configuration command"
   ]
  },
  {
   "cell_type": "code",
   "execution_count": 21,
   "id": "fa206cad-bb7e-4519-b031-bcc7f7bb0fd8",
   "metadata": {},
   "outputs": [
    {
     "name": "stderr",
     "output_type": "stream",
     "text": [
      "Saving configuration to dolphin_config.yaml\n"
     ]
    },
    {
     "data": {
      "text/plain": [
       "CompletedProcess(args='dolphin config --slc-files @slc_list.txt  --subdataset \"/data/VV\"  --strides 6 3 --n-parallel-bursts 2 --threads-per-worker 16  --ntiles 2 2 --downsample-factor 3 3', returncode=0)"
      ]
     },
     "execution_count": 21,
     "metadata": {},
     "output_type": "execute_result"
    }
   ],
   "source": [
    "cmd = (\n",
    "    'dolphin config --slc-files input_slcs/*  --subdataset \"/data/VV\"  --strides 6 3 '\n",
    "    \"--n-parallel-bursts 2 --threads-per-worker 8 \"\n",
    ")\n",
    "subprocess.run(cmd, shell=True, check=True)"
   ]
  },
  {
   "cell_type": "markdown",
   "id": "86b68b7c",
   "metadata": {},
   "source": [
    "## Running the workflow\n",
    "\n",
    "Now that we have created the `dolphin_config.yaml` file, we can run it using `dolphin run`"
   ]
  },
  {
   "cell_type": "code",
   "execution_count": 22,
   "id": "d2cdb4cc",
   "metadata": {},
   "outputs": [
    {
     "name": "stdout",
     "output_type": "stream",
     "text": [
      "\u001b[2;36m[2023-10-03 10:33:47]\u001b[0m\u001b[2;36m \u001b[0m\u001b[34mINFO    \u001b[0m Found SLC files from \u001b[1;36m2\u001b[0m bursts       \u001b]8;id=381548;file:///u/aurora-r0/staniewi/repos/dolphin/src/dolphin/workflows/s1_disp.py\u001b\\\u001b[2ms1_disp.py\u001b[0m\u001b]8;;\u001b\\\u001b[2m:\u001b[0m\u001b]8;id=436871;file:///u/aurora-r0/staniewi/repos/dolphin/src/dolphin/workflows/s1_disp.py#68\u001b\\\u001b[2m68\u001b[0m\u001b]8;;\u001b\\\n",
      "\u001b[2;36m                     \u001b[0m\u001b[2;36m \u001b[0m\u001b[34mINFO    \u001b[0m Running wrapped phase         \u001b]8;id=597451;file:///u/aurora-r0/staniewi/repos/dolphin/src/dolphin/workflows/wrapped_phase.py\u001b\\\u001b[2mwrapped_phase.py\u001b[0m\u001b]8;;\u001b\\\u001b[2m:\u001b[0m\u001b]8;id=995919;file:///u/aurora-r0/staniewi/repos/dolphin/src/dolphin/workflows/wrapped_phase.py#39\u001b\\\u001b[2m39\u001b[0m\u001b]8;;\u001b\\\n",
      "\u001b[2;36m                      \u001b[0m         estimation in                 \u001b[2m                   \u001b[0m\n",
      "\u001b[2;36m                      \u001b[0m         \u001b[35m/u/aurora-r0/staniewi/dev/bet\u001b[0m \u001b[2m                   \u001b[0m\n",
      "\u001b[2;36m                      \u001b[0m         \u001b[35ma-delivery/delivery_data_smal\u001b[0m \u001b[2m                   \u001b[0m\n",
      "\u001b[2;36m                      \u001b[0m         \u001b[35ml/\u001b[0m\u001b[95mt042_088906_iw1\u001b[0m             \u001b[2m                   \u001b[0m\n",
      "\u001b[2;36m                     \u001b[0m\u001b[2;36m \u001b[0m\u001b[34mINFO    \u001b[0m Running wrapped phase         \u001b]8;id=227730;file:///u/aurora-r0/staniewi/repos/dolphin/src/dolphin/workflows/wrapped_phase.py\u001b\\\u001b[2mwrapped_phase.py\u001b[0m\u001b]8;;\u001b\\\u001b[2m:\u001b[0m\u001b]8;id=417925;file:///u/aurora-r0/staniewi/repos/dolphin/src/dolphin/workflows/wrapped_phase.py#39\u001b\\\u001b[2m39\u001b[0m\u001b]8;;\u001b\\\n",
      "\u001b[2;36m                      \u001b[0m         estimation in                 \u001b[2m                   \u001b[0m\n",
      "\u001b[2;36m                      \u001b[0m         \u001b[35m/u/aurora-r0/staniewi/dev/bet\u001b[0m \u001b[2m                   \u001b[0m\n",
      "\u001b[2;36m                      \u001b[0m         \u001b[35ma-delivery/delivery_data_smal\u001b[0m \u001b[2m                   \u001b[0m\n",
      "\u001b[2;36m                      \u001b[0m         \u001b[35ml/\u001b[0m\u001b[95mt042_088905_iw1\u001b[0m             \u001b[2m                   \u001b[0m\n",
      "\u001b[2;36m                     \u001b[0m\u001b[2;36m \u001b[0m\u001b[34mINFO    \u001b[0m Overwriting                           \u001b]8;id=459544;file:///u/aurora-r0/staniewi/repos/dolphin/src/dolphin/stack.py\u001b\\\u001b[2mstack.py\u001b[0m\u001b]8;;\u001b\\\u001b[2m:\u001b[0m\u001b]8;id=798646;file:///u/aurora-r0/staniewi/repos/dolphin/src/dolphin/stack.py#79\u001b\\\u001b[2m79\u001b[0m\u001b]8;;\u001b\\\n",
      "\u001b[2;36m                      \u001b[0m         \u001b[35m/u/aurora-r0/staniewi/dev/beta-delive\u001b[0m \u001b[2m           \u001b[0m\n",
      "\u001b[2;36m                      \u001b[0m         \u001b[35mry/delivery_data_small/t042_088905_iw\u001b[0m \u001b[2m           \u001b[0m\n",
      "\u001b[2;36m                      \u001b[0m         \u001b[35m1/\u001b[0m\u001b[95mslc_stack.vrt\u001b[0m                       \u001b[2m           \u001b[0m\n",
      "\u001b[2;36m                     \u001b[0m\u001b[2;36m \u001b[0m\u001b[34mINFO    \u001b[0m Skipping making existing PS   \u001b]8;id=576995;file:///u/aurora-r0/staniewi/repos/dolphin/src/dolphin/workflows/wrapped_phase.py\u001b\\\u001b[2mwrapped_phase.py\u001b[0m\u001b]8;;\u001b\\\u001b[2m:\u001b[0m\u001b]8;id=343786;file:///u/aurora-r0/staniewi/repos/dolphin/src/dolphin/workflows/wrapped_phase.py#70\u001b\\\u001b[2m70\u001b[0m\u001b]8;;\u001b\\\n",
      "\u001b[2;36m                      \u001b[0m         file                          \u001b[2m                   \u001b[0m\n",
      "\u001b[2;36m                      \u001b[0m         \u001b[35m/u/aurora-r0/staniewi/dev/bet\u001b[0m \u001b[2m                   \u001b[0m\n",
      "\u001b[2;36m                      \u001b[0m         \u001b[35ma-delivery/delivery_data_smal\u001b[0m \u001b[2m                   \u001b[0m\n",
      "\u001b[2;36m                      \u001b[0m         \u001b[35ml/t042_088905_iw1/PS/\u001b[0m\u001b[95mps_pixel\u001b[0m \u001b[2m                   \u001b[0m\n",
      "\u001b[2;36m                      \u001b[0m         \u001b[95ms.tif\u001b[0m                         \u001b[2m                   \u001b[0m\n",
      "\u001b[2;36m                     \u001b[0m\u001b[2;36m \u001b[0m\u001b[34mINFO    \u001b[0m Saving a looked PS mask to              \u001b]8;id=897750;file:///u/aurora-r0/staniewi/repos/dolphin/src/dolphin/ps.py\u001b\\\u001b[2mps.py\u001b[0m\u001b]8;;\u001b\\\u001b[2m:\u001b[0m\u001b]8;id=1363;file:///u/aurora-r0/staniewi/repos/dolphin/src/dolphin/ps.py#281\u001b\\\u001b[2m281\u001b[0m\u001b]8;;\u001b\\\n",
      "\u001b[2;36m                      \u001b[0m         \u001b[35m/u/aurora-r0/staniewi/dev/beta-delivery\u001b[0m \u001b[2m         \u001b[0m\n",
      "\u001b[2;36m                      \u001b[0m         \u001b[35m/delivery_data_small/t042_088905_iw1/PS\u001b[0m \u001b[2m         \u001b[0m\n",
      "\u001b[2;36m                      \u001b[0m         \u001b[35m/\u001b[0m\u001b[95mps_pixels_looked.tif\u001b[0m                   \u001b[2m         \u001b[0m\n",
      "\u001b[2;36m                     \u001b[0m\u001b[2;36m \u001b[0m\u001b[34mINFO    \u001b[0m gdal_calc.py --quiet --outfile \u001b]8;id=496313;file:///u/aurora-r0/staniewi/repos/dolphin/src/dolphin/opera_utils.py\u001b\\\u001b[2mopera_utils.py\u001b[0m\u001b]8;;\u001b\\\u001b[2m:\u001b[0m\u001b]8;id=204640;file:///u/aurora-r0/staniewi/repos/dolphin/src/dolphin/opera_utils.py#206\u001b\\\u001b[2m206\u001b[0m\u001b]8;;\u001b\\\n",
      "\u001b[2;36m                      \u001b[0m         \u001b[35m/u/aurora-r0/staniewi/dev/beta\u001b[0m \u001b[2m                  \u001b[0m\n",
      "\u001b[2;36m                      \u001b[0m         \u001b[35m-delivery/delivery_data_small/\u001b[0m \u001b[2m                  \u001b[0m\n",
      "\u001b[2;36m                      \u001b[0m         \u001b[35mt042_088906_iw1/\u001b[0m\u001b[95mnodata_mask.ti\u001b[0m \u001b[2m                  \u001b[0m\n",
      "\u001b[2;36m                      \u001b[0m         \u001b[95mf\u001b[0m --type Byte  -A              \u001b[2m                  \u001b[0m\n",
      "\u001b[2;36m                      \u001b[0m         NETCDF:\u001b[35m/u/aurora-r0/staniewi/d\u001b[0m \u001b[2m                  \u001b[0m\n",
      "\u001b[2;36m                      \u001b[0m         \u001b[35mev/beta-delivery/delivery_data\u001b[0m \u001b[2m                  \u001b[0m\n",
      "\u001b[2;36m                      \u001b[0m         \u001b[35m_small/input_slcs/\u001b[0m\u001b[95mt042_088906_\u001b[0m \u001b[2m                  \u001b[0m\n",
      "\u001b[2;36m                      \u001b[0m         \u001b[95miw1_20221107.h5\u001b[0m:\u001b[35m/\u001b[0m\u001b[35m/data/\u001b[0m\u001b[95mVV\u001b[0m      \u001b[2m                  \u001b[0m\n",
      "\u001b[2;36m                      \u001b[0m         --calc \u001b[32m'numpy.nan_to_num\u001b[0m\u001b[32m(\u001b[0m\u001b[32mA\u001b[0m\u001b[32m)\u001b[0m\u001b[32m * \u001b[0m \u001b[2m                  \u001b[0m\n",
      "\u001b[2;36m                      \u001b[0m         \u001b[32m0'\u001b[0m --creation-option           \u001b[2m                  \u001b[0m\n",
      "\u001b[2;36m                      \u001b[0m         \u001b[33mCOMPRESS\u001b[0m=\u001b[35mLZW\u001b[0m --creation-option \u001b[2m                  \u001b[0m\n",
      "\u001b[2;36m                      \u001b[0m         \u001b[33mTILED\u001b[0m=\u001b[35mYES\u001b[0m --creation-option    \u001b[2m                  \u001b[0m\n",
      "\u001b[2;36m                      \u001b[0m         \u001b[33mBLOCKXSIZE\u001b[0m=\u001b[1;36m256\u001b[0m                 \u001b[2m                  \u001b[0m\n",
      "\u001b[2;36m                      \u001b[0m         --creation-option              \u001b[2m                  \u001b[0m\n",
      "\u001b[2;36m                      \u001b[0m         \u001b[33mBLOCKYSIZE\u001b[0m=\u001b[1;36m256\u001b[0m                 \u001b[2m                  \u001b[0m\n",
      "\u001b[2;36m                     \u001b[0m\u001b[2;36m \u001b[0m\u001b[34mINFO    \u001b[0m \u001b[35m/u/aurora-r0/staniewi/dev/beta-delivery\u001b[0m \u001b]8;id=372570;file:///u/aurora-r0/staniewi/repos/dolphin/src/dolphin/ps.py\u001b\\\u001b[2mps.py\u001b[0m\u001b]8;;\u001b\\\u001b[2m:\u001b[0m\u001b]8;id=39608;file:///u/aurora-r0/staniewi/repos/dolphin/src/dolphin/ps.py#286\u001b\\\u001b[2m286\u001b[0m\u001b]8;;\u001b\\\n",
      "\u001b[2;36m                      \u001b[0m         \u001b[35m/delivery_data_small/t042_088905_iw1/PS\u001b[0m \u001b[2m         \u001b[0m\n",
      "\u001b[2;36m                      \u001b[0m         \u001b[35m/\u001b[0m\u001b[95mps_pixels_looked.tif\u001b[0m exists, skipping. \u001b[2m         \u001b[0m\n",
      "\u001b[2;36m                     \u001b[0m\u001b[2;36m \u001b[0m\u001b[34mINFO    \u001b[0m Running sequential EMI step  \u001b]8;id=804091;file:///u/aurora-r0/staniewi/repos/dolphin/src/dolphin/workflows/wrapped_phase.py\u001b\\\u001b[2mwrapped_phase.py\u001b[0m\u001b]8;;\u001b\\\u001b[2m:\u001b[0m\u001b]8;id=813703;file:///u/aurora-r0/staniewi/repos/dolphin/src/dolphin/workflows/wrapped_phase.py#107\u001b\\\u001b[2m107\u001b[0m\u001b]8;;\u001b\\\n",
      "\u001b[2;36m                      \u001b[0m         in                           \u001b[2m                    \u001b[0m\n",
      "\u001b[2;36m                      \u001b[0m         \u001b[35m/u/aurora-r0/staniewi/dev/be\u001b[0m \u001b[2m                    \u001b[0m\n",
      "\u001b[2;36m                      \u001b[0m         \u001b[35mta-delivery/delivery_data_sm\u001b[0m \u001b[2m                    \u001b[0m\n",
      "\u001b[2;36m                      \u001b[0m         \u001b[35mall/t042_088905_iw1/\u001b[0m\u001b[95mlinked_p\u001b[0m \u001b[2m                    \u001b[0m\n",
      "\u001b[2;36m                      \u001b[0m         \u001b[95mhase\u001b[0m                         \u001b[2m                    \u001b[0m\n",
      "\u001b[2;36m[2023-10-03 10:33:48]\u001b[0m\u001b[2;36m \u001b[0m\u001b[34mINFO    \u001b[0m Logging GPU memory usage to    \u001b]8;id=288308;file:///u/aurora-r0/staniewi/repos/dolphin/src/dolphin/_background.py\u001b\\\u001b[2m_background.py\u001b[0m\u001b]8;;\u001b\\\u001b[2m:\u001b[0m\u001b]8;id=763599;file:///u/aurora-r0/staniewi/repos/dolphin/src/dolphin/_background.py#296\u001b\\\u001b[2m296\u001b[0m\u001b]8;;\u001b\\\n",
      "\u001b[2;36m                      \u001b[0m         \u001b[35m/u/aurora-r0/staniewi/dev/beta\u001b[0m \u001b[2m                  \u001b[0m\n",
      "\u001b[2;36m                      \u001b[0m         \u001b[35m-delivery/delivery_data_small/\u001b[0m \u001b[2m                  \u001b[0m\n",
      "\u001b[2;36m                      \u001b[0m         \u001b[35mt042_088905_iw1/linked_phase/\u001b[0m\u001b[95mn\u001b[0m \u001b[2m                  \u001b[0m\n",
      "\u001b[2;36m                      \u001b[0m         \u001b[95mvidia_memory.log\u001b[0m every \u001b[1;36m1.0\u001b[0m s   \u001b[2m                  \u001b[0m\n",
      "\u001b[2;36m                     \u001b[0m\u001b[2;36m \u001b[0m\u001b[34mINFO    \u001b[0m \u001b[1;35mVRTStack\u001b[0m\u001b[1m(\u001b[0m\u001b[1;36m4\u001b[0m bands,                \u001b]8;id=350043;file:///u/aurora-r0/staniewi/repos/dolphin/src/dolphin/workflows/sequential.py\u001b\\\u001b[2msequential.py\u001b[0m\u001b]8;;\u001b\\\u001b[2m:\u001b[0m\u001b]8;id=151048;file:///u/aurora-r0/staniewi/repos/dolphin/src/dolphin/workflows/sequential.py#61\u001b\\\u001b[2m61\u001b[0m\u001b]8;;\u001b\\\n",
      "\u001b[2;36m                      \u001b[0m         \u001b[33moutfile\u001b[0m=\u001b[35m/u/aurora-r0/staniewi/de\u001b[0m \u001b[2m                \u001b[0m\n",
      "\u001b[2;36m                      \u001b[0m         \u001b[35mv/beta-delivery/delivery_data_sm\u001b[0m \u001b[2m                \u001b[0m\n",
      "\u001b[2;36m                      \u001b[0m         \u001b[35mall/t042_088905_iw1/\u001b[0m\u001b[95mslc_stack.vr\u001b[0m \u001b[2m                \u001b[0m\n",
      "\u001b[2;36m                      \u001b[0m         \u001b[95mt\u001b[0m\u001b[1m)\u001b[0m: from                         \u001b[2m                \u001b[0m\n",
      "\u001b[2;36m                      \u001b[0m         \u001b[35m/u/aurora-r0/staniewi/dev/beta-d\u001b[0m \u001b[2m                \u001b[0m\n",
      "\u001b[2;36m                      \u001b[0m         \u001b[35melivery/delivery_data_small/inpu\u001b[0m \u001b[2m                \u001b[0m\n",
      "\u001b[2;36m                      \u001b[0m         \u001b[35mt_slcs/\u001b[0m\u001b[95mt042_088905_iw1_20221107.\u001b[0m \u001b[2m                \u001b[0m\n",
      "\u001b[2;36m                      \u001b[0m         \u001b[95mh5\u001b[0m to                            \u001b[2m                \u001b[0m\n",
      "\u001b[2;36m                      \u001b[0m         \u001b[35m/u/aurora-r0/staniewi/dev/beta-d\u001b[0m \u001b[2m                \u001b[0m\n",
      "\u001b[2;36m                      \u001b[0m         \u001b[35melivery/delivery_data_small/inpu\u001b[0m \u001b[2m                \u001b[0m\n",
      "\u001b[2;36m                      \u001b[0m         \u001b[35mt_slcs/\u001b[0m\u001b[95mt042_088905_iw1_20221213.\u001b[0m \u001b[2m                \u001b[0m\n",
      "\u001b[2;36m                      \u001b[0m         \u001b[95mh5\u001b[0m                               \u001b[2m                \u001b[0m\n",
      "\u001b[2;36m                     \u001b[0m\u001b[2;36m \u001b[0m\u001b[34mINFO    \u001b[0m Processing \u001b[1;36m4\u001b[0m SLCs.Output folder: \u001b]8;id=178504;file:///u/aurora-r0/staniewi/repos/dolphin/src/dolphin/workflows/sequential.py\u001b\\\u001b[2msequential.py\u001b[0m\u001b]8;;\u001b\\\u001b[2m:\u001b[0m\u001b]8;id=223900;file:///u/aurora-r0/staniewi/repos/dolphin/src/dolphin/workflows/sequential.py#84\u001b\\\u001b[2m84\u001b[0m\u001b]8;;\u001b\\\n",
      "\u001b[2;36m                      \u001b[0m         \u001b[35m/u/aurora-r0/staniewi/dev/beta-d\u001b[0m \u001b[2m                \u001b[0m\n",
      "\u001b[2;36m                      \u001b[0m         \u001b[35melivery/delivery_data_small/t042\u001b[0m \u001b[2m                \u001b[0m\n",
      "\u001b[2;36m                      \u001b[0m         \u001b[35m_088905_iw1/linked_phase/\u001b[0m\u001b[95m2022110\u001b[0m \u001b[2m                \u001b[0m\n",
      "\u001b[2;36m                      \u001b[0m         \u001b[95m7_20221213\u001b[0m                       \u001b[2m                \u001b[0m\n",
      "\u001b[2;36m                     \u001b[0m\u001b[2;36m \u001b[0m\u001b[34mINFO    \u001b[0m Overwriting                           \u001b]8;id=907592;file:///u/aurora-r0/staniewi/repos/dolphin/src/dolphin/stack.py\u001b\\\u001b[2mstack.py\u001b[0m\u001b]8;;\u001b\\\u001b[2m:\u001b[0m\u001b]8;id=276444;file:///u/aurora-r0/staniewi/repos/dolphin/src/dolphin/stack.py#79\u001b\\\u001b[2m79\u001b[0m\u001b]8;;\u001b\\\n",
      "\u001b[2;36m                      \u001b[0m         \u001b[35m/u/aurora-r0/staniewi/dev/beta-delive\u001b[0m \u001b[2m           \u001b[0m\n",
      "\u001b[2;36m                      \u001b[0m         \u001b[35mry/delivery_data_small/t042_088905_iw\u001b[0m \u001b[2m           \u001b[0m\n",
      "\u001b[2;36m                      \u001b[0m         \u001b[35m1/linked_phase/20221107_20221213/\u001b[0m\u001b[95m2022\u001b[0m \u001b[2m           \u001b[0m\n",
      "\u001b[2;36m                      \u001b[0m         \u001b[95m1107_20221213.vrt\u001b[0m                     \u001b[2m           \u001b[0m\n",
      "\u001b[2;36m                     \u001b[0m\u001b[2;36m \u001b[0m\u001b[34mINFO    \u001b[0m \u001b[1;35mVRTStack\u001b[0m\u001b[1m(\u001b[0m\u001b[1;36m4\u001b[0m bands,                    \u001b]8;id=829477;file:///u/aurora-r0/staniewi/repos/dolphin/src/dolphin/workflows/single.py\u001b\\\u001b[2msingle.py\u001b[0m\u001b]8;;\u001b\\\u001b[2m:\u001b[0m\u001b]8;id=825971;file:///u/aurora-r0/staniewi/repos/dolphin/src/dolphin/workflows/single.py#72\u001b\\\u001b[2m72\u001b[0m\u001b]8;;\u001b\\\n",
      "\u001b[2;36m                      \u001b[0m         \u001b[33moutfile\u001b[0m=\u001b[35m/u/aurora-r0/staniewi/dev/be\u001b[0m \u001b[2m            \u001b[0m\n",
      "\u001b[2;36m                      \u001b[0m         \u001b[35mta-delivery/delivery_data_small/t042\u001b[0m \u001b[2m            \u001b[0m\n",
      "\u001b[2;36m                      \u001b[0m         \u001b[35m_088905_iw1/linked_phase/20221107_20\u001b[0m \u001b[2m            \u001b[0m\n",
      "\u001b[2;36m                      \u001b[0m         \u001b[35m221213/\u001b[0m\u001b[95m20221107_20221213.vrt\u001b[0m\u001b[1m)\u001b[0m: from  \u001b[2m            \u001b[0m\n",
      "\u001b[2;36m                      \u001b[0m         \u001b[35m/u/aurora-r0/staniewi/dev/beta-deliv\u001b[0m \u001b[2m            \u001b[0m\n",
      "\u001b[2;36m                      \u001b[0m         \u001b[35mery/delivery_data_small/input_slcs/\u001b[0m\u001b[95mt\u001b[0m \u001b[2m            \u001b[0m\n",
      "\u001b[2;36m                      \u001b[0m         \u001b[95m042_088905_iw1_20221107.h5\u001b[0m to        \u001b[2m            \u001b[0m\n",
      "\u001b[2;36m                      \u001b[0m         \u001b[35m/u/aurora-r0/staniewi/dev/beta-deliv\u001b[0m \u001b[2m            \u001b[0m\n",
      "\u001b[2;36m                      \u001b[0m         \u001b[35mery/delivery_data_small/input_slcs/\u001b[0m\u001b[95mt\u001b[0m \u001b[2m            \u001b[0m\n",
      "\u001b[2;36m                      \u001b[0m         \u001b[95m042_088905_iw1_20221213.h5\u001b[0m           \u001b[2m            \u001b[0m\n",
      "\u001b[2;36m[2023-10-03 10:33:53]\u001b[0m\u001b[2;36m \u001b[0m\u001b[34mINFO    \u001b[0m gdal_rasterize -q -burn \u001b[1;36m1\u001b[0m      \u001b]8;id=329093;file:///u/aurora-r0/staniewi/repos/dolphin/src/dolphin/opera_utils.py\u001b\\\u001b[2mopera_utils.py\u001b[0m\u001b]8;;\u001b\\\u001b[2m:\u001b[0m\u001b]8;id=981782;file:///u/aurora-r0/staniewi/repos/dolphin/src/dolphin/opera_utils.py#223\u001b\\\u001b[2m223\u001b[0m\u001b]8;;\u001b\\\n",
      "\u001b[2;36m                      \u001b[0m         \u001b[35m/tmp/tmp5gks18o3/\u001b[0m\u001b[95mtemp.geojson\u001b[0m  \u001b[2m                  \u001b[0m\n",
      "\u001b[2;36m                      \u001b[0m         \u001b[35m/u/aurora-r0/staniewi/dev/beta\u001b[0m \u001b[2m                  \u001b[0m\n",
      "\u001b[2;36m                      \u001b[0m         \u001b[35m-delivery/delivery_data_small/\u001b[0m \u001b[2m                  \u001b[0m\n",
      "\u001b[2;36m                      \u001b[0m         \u001b[35mt042_088906_iw1/\u001b[0m\u001b[95mnodata_mask.ti\u001b[0m \u001b[2m                  \u001b[0m\n",
      "\u001b[2;36m                      \u001b[0m         \u001b[95mf\u001b[0m                              \u001b[2m                  \u001b[0m\n",
      "\u001b[2;36m                     \u001b[0m\u001b[2;36m \u001b[0m\u001b[34mINFO    \u001b[0m Creating persistent scatterer \u001b]8;id=380847;file:///u/aurora-r0/staniewi/repos/dolphin/src/dolphin/workflows/wrapped_phase.py\u001b\\\u001b[2mwrapped_phase.py\u001b[0m\u001b]8;;\u001b\\\u001b[2m:\u001b[0m\u001b]8;id=357676;file:///u/aurora-r0/staniewi/repos/dolphin/src/dolphin/workflows/wrapped_phase.py#72\u001b\\\u001b[2m72\u001b[0m\u001b]8;;\u001b\\\n",
      "\u001b[2;36m                      \u001b[0m         file                          \u001b[2m                   \u001b[0m\n",
      "\u001b[2;36m                      \u001b[0m         \u001b[35m/u/aurora-r0/staniewi/dev/bet\u001b[0m \u001b[2m                   \u001b[0m\n",
      "\u001b[2;36m                      \u001b[0m         \u001b[35ma-delivery/delivery_data_smal\u001b[0m \u001b[2m                   \u001b[0m\n",
      "\u001b[2;36m                      \u001b[0m         \u001b[35ml/t042_088906_iw1/PS/\u001b[0m\u001b[95mps_pixel\u001b[0m \u001b[2m                   \u001b[0m\n",
      "\u001b[2;36m                      \u001b[0m         \u001b[95ms.tif\u001b[0m                         \u001b[2m                   \u001b[0m\n",
      "\u001b[2K\u001b[32m⠋\u001b[0m \u001b[32m  0/390\u001b[0m Processing (512, 512) sized blocks... \u001b[90m━━━━━━━━━━━━━━━━━━━\u001b[0m \u001b[35m  0%\u001b[0m \u001b[33m0:00:00\u001b[0m\u001b[2;36m[2023-10-03 10:33:53]\u001b[0m\u001b[2;36m \u001b[0m\u001b[34mINFO    \u001b[0m Processing \u001b[1;36m4\u001b[0m SLCs + \u001b[1;36m0\u001b[0m compressed    \u001b]8;id=445207;file:///u/aurora-r0/staniewi/repos/dolphin/src/dolphin/workflows/single.py\u001b\\\u001b[2msingle.py\u001b[0m\u001b]8;;\u001b\\\u001b[2m:\u001b[0m\u001b]8;id=520770;file:///u/aurora-r0/staniewi/repos/dolphin/src/dolphin/workflows/single.py#125\u001b\\\u001b[2m125\u001b[0m\u001b]8;;\u001b\\\n",
      "\u001b[2;36m                      \u001b[0m         SLCs.                               \u001b[2m             \u001b[0m\n",
      "\u001b[2;36m                     \u001b[0m\u001b[2;36m \u001b[0m\u001b[34mINFO    \u001b[0m \u001b[1;35mVRTStack\u001b[0m\u001b[1m(\u001b[0m\u001b[1;36m4\u001b[0m bands,                   \u001b]8;id=588553;file:///u/aurora-r0/staniewi/repos/dolphin/src/dolphin/workflows/single.py\u001b\\\u001b[2msingle.py\u001b[0m\u001b]8;;\u001b\\\u001b[2m:\u001b[0m\u001b]8;id=321769;file:///u/aurora-r0/staniewi/repos/dolphin/src/dolphin/workflows/single.py#130\u001b\\\u001b[2m130\u001b[0m\u001b]8;;\u001b\\\n",
      "\u001b[2;36m                      \u001b[0m         \u001b[33moutfile\u001b[0m=\u001b[35m/u/aurora-r0/staniewi/dev/b\u001b[0m \u001b[2m             \u001b[0m\n",
      "\u001b[2;36m                      \u001b[0m         \u001b[35meta-delivery/delivery_data_small/t0\u001b[0m \u001b[2m             \u001b[0m\n",
      "\u001b[2;36m                      \u001b[0m         \u001b[35m42_088905_iw1/linked_phase/20221107\u001b[0m \u001b[2m             \u001b[0m\n",
      "\u001b[2;36m                      \u001b[0m         \u001b[35m_20221213/\u001b[0m\u001b[95m20221107_20221213.vrt\u001b[0m\u001b[1m)\u001b[0m:   \u001b[2m             \u001b[0m\n",
      "\u001b[2;36m                      \u001b[0m         from t042_088905_iw1_20221107.h5 to \u001b[2m             \u001b[0m\n",
      "\u001b[2;36m                      \u001b[0m         t042_088905_iw1_20221213.h5         \u001b[2m             \u001b[0m\n",
      "\u001b[2;36m                     \u001b[0m\u001b[2;36m \u001b[0m\u001b[34mINFO    \u001b[0m Total stack size \u001b[1m(\u001b[0min pixels\u001b[1m)\u001b[0m: \u001b[1m(\u001b[0m\u001b[1;36m4\u001b[0m,   \u001b]8;id=30083;file:///u/aurora-r0/staniewi/repos/dolphin/src/dolphin/workflows/single.py\u001b\\\u001b[2msingle.py\u001b[0m\u001b]8;;\u001b\\\u001b[2m:\u001b[0m\u001b]8;id=195670;file:///u/aurora-r0/staniewi/repos/dolphin/src/dolphin/workflows/single.py#134\u001b\\\u001b[2m134\u001b[0m\u001b]8;;\u001b\\\n",
      "\u001b[2;36m                      \u001b[0m         \u001b[1;36m4840\u001b[0m, \u001b[1;36m19520\u001b[0m\u001b[1m)\u001b[0m                        \u001b[2m             \u001b[0m\n",
      "\u001b[2K\u001b[32m⠹\u001b[0m \u001b[32m  0/390\u001b[0m Processing (512, 512) sized blocks... \u001b[90m━━━━━━━━━━━━━━━━━━━\u001b[0m \u001b[35m  0%\u001b[0m \u001b[33m0:00:00\u001b[0m\u001b[2;36m                     \u001b[0m\u001b[2;36m \u001b[0m\u001b[34mINFO    \u001b[0m Iterating over \u001b[1m(\u001b[0m\u001b[1;36m512\u001b[0m, \u001b[1;36m512\u001b[0m\u001b[1m)\u001b[0m blocks,   \u001b]8;id=461970;file:///u/aurora-r0/staniewi/repos/dolphin/src/dolphin/workflows/single.py\u001b\\\u001b[2msingle.py\u001b[0m\u001b]8;;\u001b\\\u001b[2m:\u001b[0m\u001b]8;id=64531;file:///u/aurora-r0/staniewi/repos/dolphin/src/dolphin/workflows/single.py#178\u001b\\\u001b[2m178\u001b[0m\u001b]8;;\u001b\\\n",
      "\u001b[2;36m                      \u001b[0m         \u001b[1;36m390\u001b[0m total                           \u001b[2m             \u001b[0m\n",
      "\u001b[2K  \u001b[32m390/390\u001b[0m Processing (512, 512) sized blocks... \u001b[90m━━━━━━━━━━━━━━━━━━━\u001b[0m \u001b[35m100%\u001b[0m \u001b[33m0:00:32\u001b[0mm \u001b[33m0:00:32\u001b[0m00:31\u001b[0m\n",
      "\u001b[?25h\u001b[2;36m[2023-10-03 10:34:26]\u001b[0m\u001b[2;36m \u001b[0m\u001b[34mINFO    \u001b[0m Waiting to write \u001b[1;36m0\u001b[0m blocks of data.      \u001b]8;id=992890;file:///u/aurora-r0/staniewi/repos/dolphin/src/dolphin/ps.py\u001b\\\u001b[2mps.py\u001b[0m\u001b]8;;\u001b\\\u001b[2m:\u001b[0m\u001b]8;id=275639;file:///u/aurora-r0/staniewi/repos/dolphin/src/dolphin/ps.py#148\u001b\\\u001b[2m148\u001b[0m\u001b]8;;\u001b\\\n",
      "\u001b[2;36m                     \u001b[0m\u001b[2;36m \u001b[0m\u001b[34mINFO    \u001b[0m Finished writing out PS files           \u001b]8;id=504538;file:///u/aurora-r0/staniewi/repos/dolphin/src/dolphin/ps.py\u001b\\\u001b[2mps.py\u001b[0m\u001b]8;;\u001b\\\u001b[2m:\u001b[0m\u001b]8;id=510579;file:///u/aurora-r0/staniewi/repos/dolphin/src/dolphin/ps.py#150\u001b\\\u001b[2m150\u001b[0m\u001b]8;;\u001b\\\n",
      "\u001b[2;36m                     \u001b[0m\u001b[2;36m \u001b[0m\u001b[34mINFO    \u001b[0m Saving a looked PS mask to              \u001b]8;id=300381;file:///u/aurora-r0/staniewi/repos/dolphin/src/dolphin/ps.py\u001b\\\u001b[2mps.py\u001b[0m\u001b]8;;\u001b\\\u001b[2m:\u001b[0m\u001b]8;id=821020;file:///u/aurora-r0/staniewi/repos/dolphin/src/dolphin/ps.py#281\u001b\\\u001b[2m281\u001b[0m\u001b]8;;\u001b\\\n",
      "\u001b[2;36m                      \u001b[0m         \u001b[35m/u/aurora-r0/staniewi/dev/beta-delivery\u001b[0m \u001b[2m         \u001b[0m\n",
      "\u001b[2;36m                      \u001b[0m         \u001b[35m/delivery_data_small/t042_088906_iw1/PS\u001b[0m \u001b[2m         \u001b[0m\n",
      "\u001b[2;36m                      \u001b[0m         \u001b[35m/\u001b[0m\u001b[95mps_pixels_looked.tif\u001b[0m                   \u001b[2m         \u001b[0m\n",
      "\u001b[2;36m[2023-10-03 10:34:28]\u001b[0m\u001b[2;36m \u001b[0m\u001b[34mINFO    \u001b[0m Running sequential EMI step  \u001b]8;id=40876;file:///u/aurora-r0/staniewi/repos/dolphin/src/dolphin/workflows/wrapped_phase.py\u001b\\\u001b[2mwrapped_phase.py\u001b[0m\u001b]8;;\u001b\\\u001b[2m:\u001b[0m\u001b]8;id=976493;file:///u/aurora-r0/staniewi/repos/dolphin/src/dolphin/workflows/wrapped_phase.py#107\u001b\\\u001b[2m107\u001b[0m\u001b]8;;\u001b\\\n",
      "\u001b[2;36m                      \u001b[0m         in                           \u001b[2m                    \u001b[0m\n",
      "\u001b[2;36m                      \u001b[0m         \u001b[35m/u/aurora-r0/staniewi/dev/be\u001b[0m \u001b[2m                    \u001b[0m\n",
      "\u001b[2;36m                      \u001b[0m         \u001b[35mta-delivery/delivery_data_sm\u001b[0m \u001b[2m                    \u001b[0m\n",
      "\u001b[2;36m                      \u001b[0m         \u001b[35mall/t042_088906_iw1/\u001b[0m\u001b[95mlinked_p\u001b[0m \u001b[2m                    \u001b[0m\n",
      "\u001b[2;36m                      \u001b[0m         \u001b[95mhase\u001b[0m                         \u001b[2m                    \u001b[0m\n",
      "\u001b[2;36m                     \u001b[0m\u001b[2;36m \u001b[0m\u001b[34mINFO    \u001b[0m Logging GPU memory usage to    \u001b]8;id=924239;file:///u/aurora-r0/staniewi/repos/dolphin/src/dolphin/_background.py\u001b\\\u001b[2m_background.py\u001b[0m\u001b]8;;\u001b\\\u001b[2m:\u001b[0m\u001b]8;id=973385;file:///u/aurora-r0/staniewi/repos/dolphin/src/dolphin/_background.py#296\u001b\\\u001b[2m296\u001b[0m\u001b]8;;\u001b\\\n",
      "\u001b[2;36m                      \u001b[0m         \u001b[35m/u/aurora-r0/staniewi/dev/beta\u001b[0m \u001b[2m                  \u001b[0m\n",
      "\u001b[2;36m                      \u001b[0m         \u001b[35m-delivery/delivery_data_small/\u001b[0m \u001b[2m                  \u001b[0m\n",
      "\u001b[2;36m                      \u001b[0m         \u001b[35mt042_088906_iw1/linked_phase/\u001b[0m\u001b[95mn\u001b[0m \u001b[2m                  \u001b[0m\n",
      "\u001b[2;36m                      \u001b[0m         \u001b[95mvidia_memory.log\u001b[0m every \u001b[1;36m1.0\u001b[0m s   \u001b[2m                  \u001b[0m\n",
      "\u001b[2;36m                     \u001b[0m\u001b[2;36m \u001b[0m\u001b[34mINFO    \u001b[0m \u001b[1;35mVRTStack\u001b[0m\u001b[1m(\u001b[0m\u001b[1;36m4\u001b[0m bands,                \u001b]8;id=932386;file:///u/aurora-r0/staniewi/repos/dolphin/src/dolphin/workflows/sequential.py\u001b\\\u001b[2msequential.py\u001b[0m\u001b]8;;\u001b\\\u001b[2m:\u001b[0m\u001b]8;id=357818;file:///u/aurora-r0/staniewi/repos/dolphin/src/dolphin/workflows/sequential.py#61\u001b\\\u001b[2m61\u001b[0m\u001b]8;;\u001b\\\n",
      "\u001b[2;36m                      \u001b[0m         \u001b[33moutfile\u001b[0m=\u001b[35m/u/aurora-r0/staniewi/de\u001b[0m \u001b[2m                \u001b[0m\n",
      "\u001b[2;36m                      \u001b[0m         \u001b[35mv/beta-delivery/delivery_data_sm\u001b[0m \u001b[2m                \u001b[0m\n",
      "\u001b[2;36m                      \u001b[0m         \u001b[35mall/t042_088906_iw1/\u001b[0m\u001b[95mslc_stack.vr\u001b[0m \u001b[2m                \u001b[0m\n",
      "\u001b[2;36m                      \u001b[0m         \u001b[95mt\u001b[0m\u001b[1m)\u001b[0m: from                         \u001b[2m                \u001b[0m\n",
      "\u001b[2;36m                      \u001b[0m         \u001b[35m/u/aurora-r0/staniewi/dev/beta-d\u001b[0m \u001b[2m                \u001b[0m\n",
      "\u001b[2;36m                      \u001b[0m         \u001b[35melivery/delivery_data_small/inpu\u001b[0m \u001b[2m                \u001b[0m\n",
      "\u001b[2;36m                      \u001b[0m         \u001b[35mt_slcs/\u001b[0m\u001b[95mt042_088906_iw1_20221107.\u001b[0m \u001b[2m                \u001b[0m\n",
      "\u001b[2;36m                      \u001b[0m         \u001b[95mh5\u001b[0m to                            \u001b[2m                \u001b[0m\n",
      "\u001b[2;36m                      \u001b[0m         \u001b[35m/u/aurora-r0/staniewi/dev/beta-d\u001b[0m \u001b[2m                \u001b[0m\n",
      "\u001b[2;36m                      \u001b[0m         \u001b[35melivery/delivery_data_small/inpu\u001b[0m \u001b[2m                \u001b[0m\n",
      "\u001b[2;36m                      \u001b[0m         \u001b[35mt_slcs/\u001b[0m\u001b[95mt042_088906_iw1_20221213.\u001b[0m \u001b[2m                \u001b[0m\n",
      "\u001b[2;36m                      \u001b[0m         \u001b[95mh5\u001b[0m                               \u001b[2m                \u001b[0m\n",
      "\u001b[2;36m                     \u001b[0m\u001b[2;36m \u001b[0m\u001b[34mINFO    \u001b[0m Processing \u001b[1;36m4\u001b[0m SLCs.Output folder: \u001b]8;id=535234;file:///u/aurora-r0/staniewi/repos/dolphin/src/dolphin/workflows/sequential.py\u001b\\\u001b[2msequential.py\u001b[0m\u001b]8;;\u001b\\\u001b[2m:\u001b[0m\u001b]8;id=836061;file:///u/aurora-r0/staniewi/repos/dolphin/src/dolphin/workflows/sequential.py#84\u001b\\\u001b[2m84\u001b[0m\u001b]8;;\u001b\\\n",
      "\u001b[2;36m                      \u001b[0m         \u001b[35m/u/aurora-r0/staniewi/dev/beta-d\u001b[0m \u001b[2m                \u001b[0m\n",
      "\u001b[2;36m                      \u001b[0m         \u001b[35melivery/delivery_data_small/t042\u001b[0m \u001b[2m                \u001b[0m\n",
      "\u001b[2;36m                      \u001b[0m         \u001b[35m_088906_iw1/linked_phase/\u001b[0m\u001b[95m2022110\u001b[0m \u001b[2m                \u001b[0m\n",
      "\u001b[2;36m                      \u001b[0m         \u001b[95m7_20221213\u001b[0m                       \u001b[2m                \u001b[0m\n",
      "\u001b[2;36m                     \u001b[0m\u001b[2;36m \u001b[0m\u001b[34mINFO    \u001b[0m \u001b[1;35mVRTStack\u001b[0m\u001b[1m(\u001b[0m\u001b[1;36m4\u001b[0m bands,                    \u001b]8;id=134756;file:///u/aurora-r0/staniewi/repos/dolphin/src/dolphin/workflows/single.py\u001b\\\u001b[2msingle.py\u001b[0m\u001b]8;;\u001b\\\u001b[2m:\u001b[0m\u001b]8;id=921110;file:///u/aurora-r0/staniewi/repos/dolphin/src/dolphin/workflows/single.py#72\u001b\\\u001b[2m72\u001b[0m\u001b]8;;\u001b\\\n",
      "\u001b[2;36m                      \u001b[0m         \u001b[33moutfile\u001b[0m=\u001b[35m/u/aurora-r0/staniewi/dev/be\u001b[0m \u001b[2m            \u001b[0m\n",
      "\u001b[2;36m                      \u001b[0m         \u001b[35mta-delivery/delivery_data_small/t042\u001b[0m \u001b[2m            \u001b[0m\n",
      "\u001b[2;36m                      \u001b[0m         \u001b[35m_088906_iw1/linked_phase/20221107_20\u001b[0m \u001b[2m            \u001b[0m\n",
      "\u001b[2;36m                      \u001b[0m         \u001b[35m221213/\u001b[0m\u001b[95m20221107_20221213.vrt\u001b[0m\u001b[1m)\u001b[0m: from  \u001b[2m            \u001b[0m\n",
      "\u001b[2;36m                      \u001b[0m         \u001b[35m/u/aurora-r0/staniewi/dev/beta-deliv\u001b[0m \u001b[2m            \u001b[0m\n",
      "\u001b[2;36m                      \u001b[0m         \u001b[35mery/delivery_data_small/input_slcs/\u001b[0m\u001b[95mt\u001b[0m \u001b[2m            \u001b[0m\n",
      "\u001b[2;36m                      \u001b[0m         \u001b[95m042_088906_iw1_20221107.h5\u001b[0m to        \u001b[2m            \u001b[0m\n",
      "\u001b[2;36m                      \u001b[0m         \u001b[35m/u/aurora-r0/staniewi/dev/beta-deliv\u001b[0m \u001b[2m            \u001b[0m\n",
      "\u001b[2;36m                      \u001b[0m         \u001b[35mery/delivery_data_small/input_slcs/\u001b[0m\u001b[95mt\u001b[0m \u001b[2m            \u001b[0m\n",
      "\u001b[2;36m                      \u001b[0m         \u001b[95m042_088906_iw1_20221213.h5\u001b[0m           \u001b[2m            \u001b[0m\n",
      "\u001b[2;36m[2023-10-03 10:34:33]\u001b[0m\u001b[2;36m \u001b[0m\u001b[34mINFO    \u001b[0m Processing \u001b[1;36m4\u001b[0m SLCs + \u001b[1;36m0\u001b[0m compressed    \u001b]8;id=821049;file:///u/aurora-r0/staniewi/repos/dolphin/src/dolphin/workflows/single.py\u001b\\\u001b[2msingle.py\u001b[0m\u001b]8;;\u001b\\\u001b[2m:\u001b[0m\u001b]8;id=849095;file:///u/aurora-r0/staniewi/repos/dolphin/src/dolphin/workflows/single.py#125\u001b\\\u001b[2m125\u001b[0m\u001b]8;;\u001b\\\n",
      "\u001b[2;36m                      \u001b[0m         SLCs.                               \u001b[2m             \u001b[0m\n",
      "\u001b[2;36m                     \u001b[0m\u001b[2;36m \u001b[0m\u001b[34mINFO    \u001b[0m \u001b[1;35mVRTStack\u001b[0m\u001b[1m(\u001b[0m\u001b[1;36m4\u001b[0m bands,                   \u001b]8;id=539332;file:///u/aurora-r0/staniewi/repos/dolphin/src/dolphin/workflows/single.py\u001b\\\u001b[2msingle.py\u001b[0m\u001b]8;;\u001b\\\u001b[2m:\u001b[0m\u001b]8;id=463701;file:///u/aurora-r0/staniewi/repos/dolphin/src/dolphin/workflows/single.py#130\u001b\\\u001b[2m130\u001b[0m\u001b]8;;\u001b\\\n",
      "\u001b[2;36m                      \u001b[0m         \u001b[33moutfile\u001b[0m=\u001b[35m/u/aurora-r0/staniewi/dev/b\u001b[0m \u001b[2m             \u001b[0m\n",
      "\u001b[2;36m                      \u001b[0m         \u001b[35meta-delivery/delivery_data_small/t0\u001b[0m \u001b[2m             \u001b[0m\n",
      "\u001b[2;36m                      \u001b[0m         \u001b[35m42_088906_iw1/linked_phase/20221107\u001b[0m \u001b[2m             \u001b[0m\n",
      "\u001b[2;36m                      \u001b[0m         \u001b[35m_20221213/\u001b[0m\u001b[95m20221107_20221213.vrt\u001b[0m\u001b[1m)\u001b[0m:   \u001b[2m             \u001b[0m\n",
      "\u001b[2;36m                      \u001b[0m         from t042_088906_iw1_20221107.h5 to \u001b[2m             \u001b[0m\n",
      "\u001b[2;36m                      \u001b[0m         t042_088906_iw1_20221213.h5         \u001b[2m             \u001b[0m\n",
      "\u001b[2;36m                     \u001b[0m\u001b[2;36m \u001b[0m\u001b[34mINFO    \u001b[0m Total stack size \u001b[1m(\u001b[0min pixels\u001b[1m)\u001b[0m: \u001b[1m(\u001b[0m\u001b[1;36m4\u001b[0m,   \u001b]8;id=2336;file:///u/aurora-r0/staniewi/repos/dolphin/src/dolphin/workflows/single.py\u001b\\\u001b[2msingle.py\u001b[0m\u001b]8;;\u001b\\\u001b[2m:\u001b[0m\u001b]8;id=874957;file:///u/aurora-r0/staniewi/repos/dolphin/src/dolphin/workflows/single.py#134\u001b\\\u001b[2m134\u001b[0m\u001b]8;;\u001b\\\n",
      "\u001b[2;36m                      \u001b[0m         \u001b[1;36m4850\u001b[0m, \u001b[1;36m19530\u001b[0m\u001b[1m)\u001b[0m                        \u001b[2m             \u001b[0m\n",
      "\u001b[2;36m                     \u001b[0m\u001b[2;36m \u001b[0m\u001b[34mINFO    \u001b[0m Iterating over \u001b[1m(\u001b[0m\u001b[1;36m512\u001b[0m, \u001b[1;36m512\u001b[0m\u001b[1m)\u001b[0m blocks,   \u001b]8;id=106967;file:///u/aurora-r0/staniewi/repos/dolphin/src/dolphin/workflows/single.py\u001b\\\u001b[2msingle.py\u001b[0m\u001b]8;;\u001b\\\u001b[2m:\u001b[0m\u001b]8;id=602142;file:///u/aurora-r0/staniewi/repos/dolphin/src/dolphin/workflows/single.py#178\u001b\\\u001b[2m178\u001b[0m\u001b]8;;\u001b\\\n",
      "\u001b[2;36m                      \u001b[0m         \u001b[1;36m390\u001b[0m total                           \u001b[2m             \u001b[0m\n",
      "\u001b[2;36m[2023-10-03 10:34:57]\u001b[0m\u001b[2;36m \u001b[0m\u001b[34mINFO    \u001b[0m Waiting to write \u001b[1;36m0\u001b[0m blocks of data.  \u001b]8;id=809676;file:///u/aurora-r0/staniewi/repos/dolphin/src/dolphin/workflows/single.py\u001b\\\u001b[2msingle.py\u001b[0m\u001b]8;;\u001b\\\u001b[2m:\u001b[0m\u001b]8;id=14637;file:///u/aurora-r0/staniewi/repos/dolphin/src/dolphin/workflows/single.py#290\u001b\\\u001b[2m290\u001b[0m\u001b]8;;\u001b\\\n",
      "\u001b[2;36m[2023-10-03 10:34:58]\u001b[0m\u001b[2;36m \u001b[0m\u001b[34mINFO    \u001b[0m Finished ministack of size \u001b[1m(\u001b[0m\u001b[1;36m4\u001b[0m,      \u001b]8;id=380255;file:///u/aurora-r0/staniewi/repos/dolphin/src/dolphin/workflows/single.py\u001b\\\u001b[2msingle.py\u001b[0m\u001b]8;;\u001b\\\u001b[2m:\u001b[0m\u001b]8;id=154502;file:///u/aurora-r0/staniewi/repos/dolphin/src/dolphin/workflows/single.py#292\u001b\\\u001b[2m292\u001b[0m\u001b]8;;\u001b\\\n",
      "\u001b[2;36m                      \u001b[0m         \u001b[1;36m4840\u001b[0m, \u001b[1;36m19520\u001b[0m\u001b[1m)\u001b[0m.                       \u001b[2m             \u001b[0m\n",
      "\u001b[2;36m[2023-10-03 10:34:59]\u001b[0m\u001b[2;36m \u001b[0m\u001b[34mINFO    \u001b[0m Creating virtual             \u001b]8;id=151181;file:///u/aurora-r0/staniewi/repos/dolphin/src/dolphin/workflows/wrapped_phase.py\u001b\\\u001b[2mwrapped_phase.py\u001b[0m\u001b]8;;\u001b\\\u001b[2m:\u001b[0m\u001b]8;id=175297;file:///u/aurora-r0/staniewi/repos/dolphin/src/dolphin/workflows/wrapped_phase.py#152\u001b\\\u001b[2m152\u001b[0m\u001b]8;;\u001b\\\n",
      "\u001b[2;36m                      \u001b[0m         interferograms from \u001b[1;36m4\u001b[0m files  \u001b[2m                    \u001b[0m\n",
      "\u001b[2;36m                     \u001b[0m\u001b[2;36m \u001b[0m\u001b[34mINFO    \u001b[0m Total elapsed time for                \u001b]8;id=236294;file:///u/aurora-r0/staniewi/repos/dolphin/src/dolphin/_log.py\u001b\\\u001b[2m_log.py\u001b[0m\u001b]8;;\u001b\\\u001b[2m:\u001b[0m\u001b]8;id=16637;file:///u/aurora-r0/staniewi/repos/dolphin/src/dolphin/_log.py#114\u001b\\\u001b[2m114\u001b[0m\u001b]8;;\u001b\\\n",
      "\u001b[2;36m                      \u001b[0m         dolphin.workflows.wrapped_phase.run : \u001b[2m           \u001b[0m\n",
      "\u001b[2;36m                      \u001b[0m         \u001b[1;36m1.20\u001b[0m minutes \u001b[1m(\u001b[0m\u001b[1;36m72.13\u001b[0m seconds\u001b[1m)\u001b[0m          \u001b[2m           \u001b[0m\n",
      "\u001b[2;36m[2023-10-03 10:35:36]\u001b[0m\u001b[2;36m \u001b[0m\u001b[34mINFO    \u001b[0m Waiting to write \u001b[1;36m0\u001b[0m blocks of data.  \u001b]8;id=858553;file:///u/aurora-r0/staniewi/repos/dolphin/src/dolphin/workflows/single.py\u001b\\\u001b[2msingle.py\u001b[0m\u001b]8;;\u001b\\\u001b[2m:\u001b[0m\u001b]8;id=735109;file:///u/aurora-r0/staniewi/repos/dolphin/src/dolphin/workflows/single.py#290\u001b\\\u001b[2m290\u001b[0m\u001b]8;;\u001b\\\n",
      "\u001b[2;36m                     \u001b[0m\u001b[2;36m \u001b[0m\u001b[34mINFO    \u001b[0m Finished ministack of size \u001b[1m(\u001b[0m\u001b[1;36m4\u001b[0m,      \u001b]8;id=568399;file:///u/aurora-r0/staniewi/repos/dolphin/src/dolphin/workflows/single.py\u001b\\\u001b[2msingle.py\u001b[0m\u001b]8;;\u001b\\\u001b[2m:\u001b[0m\u001b]8;id=662702;file:///u/aurora-r0/staniewi/repos/dolphin/src/dolphin/workflows/single.py#292\u001b\\\u001b[2m292\u001b[0m\u001b]8;;\u001b\\\n",
      "\u001b[2;36m                      \u001b[0m         \u001b[1;36m4850\u001b[0m, \u001b[1;36m19530\u001b[0m\u001b[1m)\u001b[0m.                       \u001b[2m             \u001b[0m\n",
      "\u001b[2;36m[2023-10-03 10:35:37]\u001b[0m\u001b[2;36m \u001b[0m\u001b[34mINFO    \u001b[0m Creating virtual             \u001b]8;id=97017;file:///u/aurora-r0/staniewi/repos/dolphin/src/dolphin/workflows/wrapped_phase.py\u001b\\\u001b[2mwrapped_phase.py\u001b[0m\u001b]8;;\u001b\\\u001b[2m:\u001b[0m\u001b]8;id=290559;file:///u/aurora-r0/staniewi/repos/dolphin/src/dolphin/workflows/wrapped_phase.py#152\u001b\\\u001b[2m152\u001b[0m\u001b]8;;\u001b\\\n",
      "\u001b[2;36m                      \u001b[0m         interferograms from \u001b[1;36m4\u001b[0m files  \u001b[2m                    \u001b[0m\n",
      "\u001b[2;36m                     \u001b[0m\u001b[2;36m \u001b[0m\u001b[34mINFO    \u001b[0m Total elapsed time for                \u001b]8;id=28891;file:///u/aurora-r0/staniewi/repos/dolphin/src/dolphin/_log.py\u001b\\\u001b[2m_log.py\u001b[0m\u001b]8;;\u001b\\\u001b[2m:\u001b[0m\u001b]8;id=962017;file:///u/aurora-r0/staniewi/repos/dolphin/src/dolphin/_log.py#114\u001b\\\u001b[2m114\u001b[0m\u001b]8;;\u001b\\\n",
      "\u001b[2;36m                      \u001b[0m         dolphin.workflows.wrapped_phase.run : \u001b[2m           \u001b[0m\n",
      "\u001b[2;36m                      \u001b[0m         \u001b[1;36m1.84\u001b[0m minutes \u001b[1m(\u001b[0m\u001b[1;36m110.29\u001b[0m seconds\u001b[1m)\u001b[0m         \u001b[2m           \u001b[0m\n",
      "\u001b[2;36m[2023-10-03 10:35:38]\u001b[0m\u001b[2;36m \u001b[0m\u001b[34mINFO    \u001b[0m Stitching interferograms  \u001b]8;id=182557;file:///u/aurora-r0/staniewi/repos/dolphin/src/dolphin/workflows/stitch_and_unwrap.py\u001b\\\u001b[2mstitch_and_unwrap.py\u001b[0m\u001b]8;;\u001b\\\u001b[2m:\u001b[0m\u001b]8;id=49063;file:///u/aurora-r0/staniewi/repos/dolphin/src/dolphin/workflows/stitch_and_unwrap.py#63\u001b\\\u001b[2m63\u001b[0m\u001b]8;;\u001b\\\n",
      "\u001b[2;36m                      \u001b[0m         by date.                  \u001b[2m                       \u001b[0m\n",
      "\u001b[2;36m                     \u001b[0m\u001b[2;36m \u001b[0m\u001b[34mINFO    \u001b[0m \u001b[1m(\u001b[0m\u001b[1;35mdatetime.date\u001b[0m\u001b[1m(\u001b[0m\u001b[1;36m2022\u001b[0m, \u001b[1;36m11\u001b[0m, \u001b[1;36m7\u001b[0m\u001b[1m)\u001b[0m,      \u001b]8;id=418099;file:///u/aurora-r0/staniewi/repos/dolphin/src/dolphin/stitching.py\u001b\\\u001b[2mstitching.py\u001b[0m\u001b]8;;\u001b\\\u001b[2m:\u001b[0m\u001b]8;id=825712;file:///u/aurora-r0/staniewi/repos/dolphin/src/dolphin/stitching.py#83\u001b\\\u001b[2m83\u001b[0m\u001b]8;;\u001b\\\n",
      "\u001b[2;36m                      \u001b[0m         \u001b[1;35mdatetime.date\u001b[0m\u001b[1m(\u001b[0m\u001b[1;36m2022\u001b[0m, \u001b[1;36m11\u001b[0m, \u001b[1;36m19\u001b[0m\u001b[1m)\u001b[0m\u001b[1m)\u001b[0m:     \u001b[2m               \u001b[0m\n",
      "\u001b[2;36m                      \u001b[0m         Stitching \u001b[1;36m2\u001b[0m images.               \u001b[2m               \u001b[0m\n",
      "\u001b[2;36m                     \u001b[0m\u001b[2;36m \u001b[0m\u001b[34mINFO    \u001b[0m Running gdal_merge.py -o         \u001b]8;id=425563;file:///u/aurora-r0/staniewi/repos/dolphin/src/dolphin/stitching.py\u001b\\\u001b[2mstitching.py\u001b[0m\u001b]8;;\u001b\\\u001b[2m:\u001b[0m\u001b]8;id=75586;file:///u/aurora-r0/staniewi/repos/dolphin/src/dolphin/stitching.py#249\u001b\\\u001b[2m249\u001b[0m\u001b]8;;\u001b\\\n",
      "\u001b[2;36m                      \u001b[0m         \u001b[35m/u/aurora-r0/staniewi/dev/beta-d\u001b[0m \u001b[2m                \u001b[0m\n",
      "\u001b[2;36m                      \u001b[0m         \u001b[35melivery/delivery_data_small/inte\u001b[0m \u001b[2m                \u001b[0m\n",
      "\u001b[2;36m                      \u001b[0m         \u001b[35mrferograms/stitched/\u001b[0m\u001b[95m20221107_202\u001b[0m \u001b[2m                \u001b[0m\n",
      "\u001b[2;36m                      \u001b[0m         \u001b[95m21119.int\u001b[0m --optfile              \u001b[2m                \u001b[0m\n",
      "\u001b[2;36m                      \u001b[0m         \u001b[35m/tmp/tmpubxt2p4d/\u001b[0m\u001b[95mfile_list.txt\u001b[0m   \u001b[2m                \u001b[0m\n",
      "\u001b[2;36m                      \u001b[0m         -of ENVI -ul_lr \u001b[1;36m215190.0\u001b[0m         \u001b[2m                \u001b[0m\n",
      "\u001b[2;36m                      \u001b[0m         \u001b[1;36m4397520.0\u001b[0m \u001b[1;36m316860.0\u001b[0m \u001b[1;36m4330770.0\u001b[0m     \u001b[2m                \u001b[0m\n",
      "\u001b[2;36m                      \u001b[0m         -a_nodata \u001b[1;36m0\u001b[0m -n \u001b[1;36m0.0\u001b[0m -tap -co      \u001b[2m                \u001b[0m\n",
      "\u001b[2;36m                      \u001b[0m         \u001b[33mSUFFIX\u001b[0m=\u001b[35mADD\u001b[0m                       \u001b[2m                \u001b[0m\n",
      "0...10...20...30...40...50...60...70...80...90...100 - done.\n",
      "\u001b[2;36m[2023-10-03 10:35:39]\u001b[0m\u001b[2;36m \u001b[0m\u001b[34mINFO    \u001b[0m \u001b[1m(\u001b[0m\u001b[1;35mdatetime.date\u001b[0m\u001b[1m(\u001b[0m\u001b[1;36m2022\u001b[0m, \u001b[1;36m11\u001b[0m, \u001b[1;36m7\u001b[0m\u001b[1m)\u001b[0m,      \u001b]8;id=502811;file:///u/aurora-r0/staniewi/repos/dolphin/src/dolphin/stitching.py\u001b\\\u001b[2mstitching.py\u001b[0m\u001b]8;;\u001b\\\u001b[2m:\u001b[0m\u001b]8;id=986328;file:///u/aurora-r0/staniewi/repos/dolphin/src/dolphin/stitching.py#83\u001b\\\u001b[2m83\u001b[0m\u001b]8;;\u001b\\\n",
      "\u001b[2;36m                      \u001b[0m         \u001b[1;35mdatetime.date\u001b[0m\u001b[1m(\u001b[0m\u001b[1;36m2022\u001b[0m, \u001b[1;36m12\u001b[0m, \u001b[1;36m1\u001b[0m\u001b[1m)\u001b[0m\u001b[1m)\u001b[0m:      \u001b[2m               \u001b[0m\n",
      "\u001b[2;36m                      \u001b[0m         Stitching \u001b[1;36m2\u001b[0m images.               \u001b[2m               \u001b[0m\n",
      "\u001b[2;36m                     \u001b[0m\u001b[2;36m \u001b[0m\u001b[34mINFO    \u001b[0m Running gdal_merge.py -o         \u001b]8;id=251215;file:///u/aurora-r0/staniewi/repos/dolphin/src/dolphin/stitching.py\u001b\\\u001b[2mstitching.py\u001b[0m\u001b]8;;\u001b\\\u001b[2m:\u001b[0m\u001b]8;id=164542;file:///u/aurora-r0/staniewi/repos/dolphin/src/dolphin/stitching.py#249\u001b\\\u001b[2m249\u001b[0m\u001b]8;;\u001b\\\n",
      "\u001b[2;36m                      \u001b[0m         \u001b[35m/u/aurora-r0/staniewi/dev/beta-d\u001b[0m \u001b[2m                \u001b[0m\n",
      "\u001b[2;36m                      \u001b[0m         \u001b[35melivery/delivery_data_small/inte\u001b[0m \u001b[2m                \u001b[0m\n",
      "\u001b[2;36m                      \u001b[0m         \u001b[35mrferograms/stitched/\u001b[0m\u001b[95m20221107_202\u001b[0m \u001b[2m                \u001b[0m\n",
      "\u001b[2;36m                      \u001b[0m         \u001b[95m21201.int\u001b[0m --optfile              \u001b[2m                \u001b[0m\n",
      "\u001b[2;36m                      \u001b[0m         \u001b[35m/tmp/tmph9kluh7i/\u001b[0m\u001b[95mfile_list.txt\u001b[0m   \u001b[2m                \u001b[0m\n",
      "\u001b[2;36m                      \u001b[0m         -of ENVI -ul_lr \u001b[1;36m215190.0\u001b[0m         \u001b[2m                \u001b[0m\n",
      "\u001b[2;36m                      \u001b[0m         \u001b[1;36m4397520.0\u001b[0m \u001b[1;36m316860.0\u001b[0m \u001b[1;36m4330770.0\u001b[0m     \u001b[2m                \u001b[0m\n",
      "\u001b[2;36m                      \u001b[0m         -a_nodata \u001b[1;36m0\u001b[0m -n \u001b[1;36m0.0\u001b[0m -tap -co      \u001b[2m                \u001b[0m\n",
      "\u001b[2;36m                      \u001b[0m         \u001b[33mSUFFIX\u001b[0m=\u001b[35mADD\u001b[0m                       \u001b[2m                \u001b[0m\n",
      "0...10...20...30...40...50...60...70...80...90...100 - done.\n",
      "\u001b[2;36m[2023-10-03 10:35:40]\u001b[0m\u001b[2;36m \u001b[0m\u001b[34mINFO    \u001b[0m \u001b[1m(\u001b[0m\u001b[1;35mdatetime.date\u001b[0m\u001b[1m(\u001b[0m\u001b[1;36m2022\u001b[0m, \u001b[1;36m11\u001b[0m, \u001b[1;36m7\u001b[0m\u001b[1m)\u001b[0m,      \u001b]8;id=884481;file:///u/aurora-r0/staniewi/repos/dolphin/src/dolphin/stitching.py\u001b\\\u001b[2mstitching.py\u001b[0m\u001b]8;;\u001b\\\u001b[2m:\u001b[0m\u001b]8;id=180275;file:///u/aurora-r0/staniewi/repos/dolphin/src/dolphin/stitching.py#83\u001b\\\u001b[2m83\u001b[0m\u001b]8;;\u001b\\\n",
      "\u001b[2;36m                      \u001b[0m         \u001b[1;35mdatetime.date\u001b[0m\u001b[1m(\u001b[0m\u001b[1;36m2022\u001b[0m, \u001b[1;36m12\u001b[0m, \u001b[1;36m13\u001b[0m\u001b[1m)\u001b[0m\u001b[1m)\u001b[0m:     \u001b[2m               \u001b[0m\n",
      "\u001b[2;36m                      \u001b[0m         Stitching \u001b[1;36m2\u001b[0m images.               \u001b[2m               \u001b[0m\n",
      "\u001b[2;36m                     \u001b[0m\u001b[2;36m \u001b[0m\u001b[34mINFO    \u001b[0m Running gdal_merge.py -o         \u001b]8;id=47238;file:///u/aurora-r0/staniewi/repos/dolphin/src/dolphin/stitching.py\u001b\\\u001b[2mstitching.py\u001b[0m\u001b]8;;\u001b\\\u001b[2m:\u001b[0m\u001b]8;id=313091;file:///u/aurora-r0/staniewi/repos/dolphin/src/dolphin/stitching.py#249\u001b\\\u001b[2m249\u001b[0m\u001b]8;;\u001b\\\n",
      "\u001b[2;36m                      \u001b[0m         \u001b[35m/u/aurora-r0/staniewi/dev/beta-d\u001b[0m \u001b[2m                \u001b[0m\n",
      "\u001b[2;36m                      \u001b[0m         \u001b[35melivery/delivery_data_small/inte\u001b[0m \u001b[2m                \u001b[0m\n",
      "\u001b[2;36m                      \u001b[0m         \u001b[35mrferograms/stitched/\u001b[0m\u001b[95m20221107_202\u001b[0m \u001b[2m                \u001b[0m\n",
      "\u001b[2;36m                      \u001b[0m         \u001b[95m21213.int\u001b[0m --optfile              \u001b[2m                \u001b[0m\n",
      "\u001b[2;36m                      \u001b[0m         \u001b[35m/tmp/tmphklip4mh/\u001b[0m\u001b[95mfile_list.txt\u001b[0m   \u001b[2m                \u001b[0m\n",
      "\u001b[2;36m                      \u001b[0m         -of ENVI -ul_lr \u001b[1;36m215190.0\u001b[0m         \u001b[2m                \u001b[0m\n",
      "\u001b[2;36m                      \u001b[0m         \u001b[1;36m4397520.0\u001b[0m \u001b[1;36m316860.0\u001b[0m \u001b[1;36m4330770.0\u001b[0m     \u001b[2m                \u001b[0m\n",
      "\u001b[2;36m                      \u001b[0m         -a_nodata \u001b[1;36m0\u001b[0m -n \u001b[1;36m0.0\u001b[0m -tap -co      \u001b[2m                \u001b[0m\n",
      "\u001b[2;36m                      \u001b[0m         \u001b[33mSUFFIX\u001b[0m=\u001b[35mADD\u001b[0m                       \u001b[2m                \u001b[0m\n",
      "0...10...20...30...40...50...60...70...80...90...100 - done.\n",
      "\u001b[2;36m[2023-10-03 10:35:41]\u001b[0m\u001b[2;36m \u001b[0m\u001b[34mINFO    \u001b[0m Estimating spatial       \u001b]8;id=457752;file:///u/aurora-r0/staniewi/repos/dolphin/src/dolphin/workflows/stitch_and_unwrap.py\u001b\\\u001b[2mstitch_and_unwrap.py\u001b[0m\u001b]8;;\u001b\\\u001b[2m:\u001b[0m\u001b]8;id=685401;file:///u/aurora-r0/staniewi/repos/dolphin/src/dolphin/workflows/stitch_and_unwrap.py#163\u001b\\\u001b[2m163\u001b[0m\u001b]8;;\u001b\\\n",
      "\u001b[2;36m                      \u001b[0m         correlation for          \u001b[2m                        \u001b[0m\n",
      "\u001b[2;36m                      \u001b[0m         \u001b[1m(\u001b[0m\u001b[1;35mdatetime.date\u001b[0m\u001b[1m(\u001b[0m\u001b[1;36m2022\u001b[0m, \u001b[1;36m11\u001b[0m, \u001b[2m                        \u001b[0m\n",
      "\u001b[2;36m                      \u001b[0m         \u001b[1;36m7\u001b[0m\u001b[1m)\u001b[0m, \u001b[1;35mdatetime.date\u001b[0m\u001b[1m(\u001b[0m\u001b[1;36m2022\u001b[0m,  \u001b[2m                        \u001b[0m\n",
      "\u001b[2;36m                      \u001b[0m         \u001b[1;36m11\u001b[0m, \u001b[1;36m19\u001b[0m\u001b[1m)\u001b[0m\u001b[1m)\u001b[0m\u001b[33m...\u001b[0m              \u001b[2m                        \u001b[0m\n",
      "\u001b[2;36m                     \u001b[0m\u001b[2;36m \u001b[0m\u001b[34mINFO    \u001b[0m Writing spatial          \u001b]8;id=788854;file:///u/aurora-r0/staniewi/repos/dolphin/src/dolphin/workflows/stitch_and_unwrap.py\u001b\\\u001b[2mstitch_and_unwrap.py\u001b[0m\u001b]8;;\u001b\\\u001b[2m:\u001b[0m\u001b]8;id=502567;file:///u/aurora-r0/staniewi/repos/dolphin/src/dolphin/workflows/stitch_and_unwrap.py#165\u001b\\\u001b[2m165\u001b[0m\u001b]8;;\u001b\\\n",
      "\u001b[2;36m                      \u001b[0m         correlation to           \u001b[2m                        \u001b[0m\n",
      "\u001b[2;36m                      \u001b[0m         \u001b[35m/u/aurora-r0/staniewi/de\u001b[0m \u001b[2m                        \u001b[0m\n",
      "\u001b[2;36m                      \u001b[0m         \u001b[35mv/beta-delivery/delivery\u001b[0m \u001b[2m                        \u001b[0m\n",
      "\u001b[2;36m                      \u001b[0m         \u001b[35m_data_small/interferogra\u001b[0m \u001b[2m                        \u001b[0m\n",
      "\u001b[2;36m                      \u001b[0m         \u001b[35mms/stitched/\u001b[0m\u001b[95m20221107_202\u001b[0m \u001b[2m                        \u001b[0m\n",
      "\u001b[2;36m                      \u001b[0m         \u001b[95m21119.cor\u001b[0m                \u001b[2m                        \u001b[0m\n",
      "\u001b[2;36m[2023-10-03 10:35:42]\u001b[0m\u001b[2;36m \u001b[0m\u001b[34mINFO    \u001b[0m Estimating spatial       \u001b]8;id=995136;file:///u/aurora-r0/staniewi/repos/dolphin/src/dolphin/workflows/stitch_and_unwrap.py\u001b\\\u001b[2mstitch_and_unwrap.py\u001b[0m\u001b]8;;\u001b\\\u001b[2m:\u001b[0m\u001b]8;id=639077;file:///u/aurora-r0/staniewi/repos/dolphin/src/dolphin/workflows/stitch_and_unwrap.py#163\u001b\\\u001b[2m163\u001b[0m\u001b]8;;\u001b\\\n",
      "\u001b[2;36m                      \u001b[0m         correlation for          \u001b[2m                        \u001b[0m\n",
      "\u001b[2;36m                      \u001b[0m         \u001b[1m(\u001b[0m\u001b[1;35mdatetime.date\u001b[0m\u001b[1m(\u001b[0m\u001b[1;36m2022\u001b[0m, \u001b[1;36m11\u001b[0m, \u001b[2m                        \u001b[0m\n",
      "\u001b[2;36m                      \u001b[0m         \u001b[1;36m7\u001b[0m\u001b[1m)\u001b[0m, \u001b[1;35mdatetime.date\u001b[0m\u001b[1m(\u001b[0m\u001b[1;36m2022\u001b[0m,  \u001b[2m                        \u001b[0m\n",
      "\u001b[2;36m                      \u001b[0m         \u001b[1;36m12\u001b[0m, \u001b[1;36m1\u001b[0m\u001b[1m)\u001b[0m\u001b[1m)\u001b[0m\u001b[33m...\u001b[0m               \u001b[2m                        \u001b[0m\n",
      "\u001b[2;36m                     \u001b[0m\u001b[2;36m \u001b[0m\u001b[34mINFO    \u001b[0m Writing spatial          \u001b]8;id=630604;file:///u/aurora-r0/staniewi/repos/dolphin/src/dolphin/workflows/stitch_and_unwrap.py\u001b\\\u001b[2mstitch_and_unwrap.py\u001b[0m\u001b]8;;\u001b\\\u001b[2m:\u001b[0m\u001b]8;id=494897;file:///u/aurora-r0/staniewi/repos/dolphin/src/dolphin/workflows/stitch_and_unwrap.py#165\u001b\\\u001b[2m165\u001b[0m\u001b]8;;\u001b\\\n",
      "\u001b[2;36m                      \u001b[0m         correlation to           \u001b[2m                        \u001b[0m\n",
      "\u001b[2;36m                      \u001b[0m         \u001b[35m/u/aurora-r0/staniewi/de\u001b[0m \u001b[2m                        \u001b[0m\n",
      "\u001b[2;36m                      \u001b[0m         \u001b[35mv/beta-delivery/delivery\u001b[0m \u001b[2m                        \u001b[0m\n",
      "\u001b[2;36m                      \u001b[0m         \u001b[35m_data_small/interferogra\u001b[0m \u001b[2m                        \u001b[0m\n",
      "\u001b[2;36m                      \u001b[0m         \u001b[35mms/stitched/\u001b[0m\u001b[95m20221107_202\u001b[0m \u001b[2m                        \u001b[0m\n",
      "\u001b[2;36m                      \u001b[0m         \u001b[95m21201.cor\u001b[0m                \u001b[2m                        \u001b[0m\n",
      "\u001b[2;36m                     \u001b[0m\u001b[2;36m \u001b[0m\u001b[34mINFO    \u001b[0m Estimating spatial       \u001b]8;id=383346;file:///u/aurora-r0/staniewi/repos/dolphin/src/dolphin/workflows/stitch_and_unwrap.py\u001b\\\u001b[2mstitch_and_unwrap.py\u001b[0m\u001b]8;;\u001b\\\u001b[2m:\u001b[0m\u001b]8;id=299762;file:///u/aurora-r0/staniewi/repos/dolphin/src/dolphin/workflows/stitch_and_unwrap.py#163\u001b\\\u001b[2m163\u001b[0m\u001b]8;;\u001b\\\n",
      "\u001b[2;36m                      \u001b[0m         correlation for          \u001b[2m                        \u001b[0m\n",
      "\u001b[2;36m                      \u001b[0m         \u001b[1m(\u001b[0m\u001b[1;35mdatetime.date\u001b[0m\u001b[1m(\u001b[0m\u001b[1;36m2022\u001b[0m, \u001b[1;36m11\u001b[0m, \u001b[2m                        \u001b[0m\n",
      "\u001b[2;36m                      \u001b[0m         \u001b[1;36m7\u001b[0m\u001b[1m)\u001b[0m, \u001b[1;35mdatetime.date\u001b[0m\u001b[1m(\u001b[0m\u001b[1;36m2022\u001b[0m,  \u001b[2m                        \u001b[0m\n",
      "\u001b[2;36m                      \u001b[0m         \u001b[1;36m12\u001b[0m, \u001b[1;36m13\u001b[0m\u001b[1m)\u001b[0m\u001b[1m)\u001b[0m\u001b[33m...\u001b[0m              \u001b[2m                        \u001b[0m\n",
      "\u001b[2;36m[2023-10-03 10:35:43]\u001b[0m\u001b[2;36m \u001b[0m\u001b[34mINFO    \u001b[0m Writing spatial          \u001b]8;id=320696;file:///u/aurora-r0/staniewi/repos/dolphin/src/dolphin/workflows/stitch_and_unwrap.py\u001b\\\u001b[2mstitch_and_unwrap.py\u001b[0m\u001b]8;;\u001b\\\u001b[2m:\u001b[0m\u001b]8;id=827265;file:///u/aurora-r0/staniewi/repos/dolphin/src/dolphin/workflows/stitch_and_unwrap.py#165\u001b\\\u001b[2m165\u001b[0m\u001b]8;;\u001b\\\n",
      "\u001b[2;36m                      \u001b[0m         correlation to           \u001b[2m                        \u001b[0m\n",
      "\u001b[2;36m                      \u001b[0m         \u001b[35m/u/aurora-r0/staniewi/de\u001b[0m \u001b[2m                        \u001b[0m\n",
      "\u001b[2;36m                      \u001b[0m         \u001b[35mv/beta-delivery/delivery\u001b[0m \u001b[2m                        \u001b[0m\n",
      "\u001b[2;36m                      \u001b[0m         \u001b[35m_data_small/interferogra\u001b[0m \u001b[2m                        \u001b[0m\n",
      "\u001b[2;36m                      \u001b[0m         \u001b[35mms/stitched/\u001b[0m\u001b[95m20221107_202\u001b[0m \u001b[2m                        \u001b[0m\n",
      "\u001b[2;36m                      \u001b[0m         \u001b[95m21213.cor\u001b[0m                \u001b[2m                        \u001b[0m\n",
      "\u001b[2;36m                     \u001b[0m\u001b[2;36m \u001b[0m\u001b[34mINFO    \u001b[0m Running gdal_merge.py -o         \u001b]8;id=12172;file:///u/aurora-r0/staniewi/repos/dolphin/src/dolphin/stitching.py\u001b\\\u001b[2mstitching.py\u001b[0m\u001b]8;;\u001b\\\u001b[2m:\u001b[0m\u001b]8;id=739392;file:///u/aurora-r0/staniewi/repos/dolphin/src/dolphin/stitching.py#249\u001b\\\u001b[2m249\u001b[0m\u001b]8;;\u001b\\\n",
      "\u001b[2;36m                      \u001b[0m         \u001b[35m/u/aurora-r0/staniewi/dev/beta-d\u001b[0m \u001b[2m                \u001b[0m\n",
      "\u001b[2;36m                      \u001b[0m         \u001b[35melivery/delivery_data_small/inte\u001b[0m \u001b[2m                \u001b[0m\n",
      "\u001b[2;36m                      \u001b[0m         \u001b[35mrferograms/stitched/\u001b[0m\u001b[95mtcorr.tif\u001b[0m    \u001b[2m                \u001b[0m\n",
      "\u001b[2;36m                      \u001b[0m         --optfile                        \u001b[2m                \u001b[0m\n",
      "\u001b[2;36m                      \u001b[0m         \u001b[35m/tmp/tmp1gg1twfd/\u001b[0m\u001b[95mfile_list.txt\u001b[0m   \u001b[2m                \u001b[0m\n",
      "\u001b[2;36m                      \u001b[0m         -of GTiff -ul_lr \u001b[1;36m215190.0\u001b[0m        \u001b[2m                \u001b[0m\n",
      "\u001b[2;36m                      \u001b[0m         \u001b[1;36m4397520.0\u001b[0m \u001b[1;36m316860.0\u001b[0m \u001b[1;36m4330770.0\u001b[0m     \u001b[2m                \u001b[0m\n",
      "\u001b[2;36m                      \u001b[0m         -a_nodata \u001b[1;36m0\u001b[0m -n \u001b[1;36m0.0\u001b[0m -tap -co      \u001b[2m                \u001b[0m\n",
      "\u001b[2;36m                      \u001b[0m         \u001b[33mSUFFIX\u001b[0m=\u001b[35mADD\u001b[0m                       \u001b[2m                \u001b[0m\n",
      "Warning 6: driver GTiff does not support creation option SUFFIX\n",
      "0...10...20...30...40...50...60...70...80...90...100 - done.\n",
      "\u001b[2;36m[2023-10-03 10:35:44]\u001b[0m\u001b[2;36m \u001b[0m\u001b[34mINFO    \u001b[0m Running gdal_merge.py -o         \u001b]8;id=437687;file:///u/aurora-r0/staniewi/repos/dolphin/src/dolphin/stitching.py\u001b\\\u001b[2mstitching.py\u001b[0m\u001b]8;;\u001b\\\u001b[2m:\u001b[0m\u001b]8;id=938119;file:///u/aurora-r0/staniewi/repos/dolphin/src/dolphin/stitching.py#249\u001b\\\u001b[2m249\u001b[0m\u001b]8;;\u001b\\\n",
      "\u001b[2;36m                      \u001b[0m         \u001b[35m/u/aurora-r0/staniewi/dev/beta-d\u001b[0m \u001b[2m                \u001b[0m\n",
      "\u001b[2;36m                      \u001b[0m         \u001b[35melivery/delivery_data_small/inte\u001b[0m \u001b[2m                \u001b[0m\n",
      "\u001b[2;36m                      \u001b[0m         \u001b[35mrferograms/stitched/\u001b[0m\u001b[95mps_mask_look\u001b[0m \u001b[2m                \u001b[0m\n",
      "\u001b[2;36m                      \u001b[0m         \u001b[95med.tif\u001b[0m --optfile                 \u001b[2m                \u001b[0m\n",
      "\u001b[2;36m                      \u001b[0m         \u001b[35m/tmp/tmp3d91nzcv/\u001b[0m\u001b[95mfile_list.txt\u001b[0m   \u001b[2m                \u001b[0m\n",
      "\u001b[2;36m                      \u001b[0m         -of GTiff -ul_lr \u001b[1;36m215190.0\u001b[0m        \u001b[2m                \u001b[0m\n",
      "\u001b[2;36m                      \u001b[0m         \u001b[1;36m4397520.0\u001b[0m \u001b[1;36m316860.0\u001b[0m \u001b[1;36m4330770.0\u001b[0m     \u001b[2m                \u001b[0m\n",
      "\u001b[2;36m                      \u001b[0m         -a_nodata \u001b[1;36m255\u001b[0m -n \u001b[1;36m255.0\u001b[0m -tap -co  \u001b[2m                \u001b[0m\n",
      "\u001b[2;36m                      \u001b[0m         \u001b[33mSUFFIX\u001b[0m=\u001b[35mADD\u001b[0m                       \u001b[2m                \u001b[0m\n",
      "Warning 6: driver GTiff does not support creation option SUFFIX\n",
      "0...10...20...30...40...50...60...70...80...90...100 - done.\n",
      "\u001b[2;36m                     \u001b[0m\u001b[2;36m \u001b[0m\u001b[34mINFO    \u001b[0m Unwrapping               \u001b]8;id=226978;file:///u/aurora-r0/staniewi/repos/dolphin/src/dolphin/workflows/stitch_and_unwrap.py\u001b\\\u001b[2mstitch_and_unwrap.py\u001b[0m\u001b]8;;\u001b\\\u001b[2m:\u001b[0m\u001b]8;id=957538;file:///u/aurora-r0/staniewi/repos/dolphin/src/dolphin/workflows/stitch_and_unwrap.py#127\u001b\\\u001b[2m127\u001b[0m\u001b]8;;\u001b\\\n",
      "\u001b[2;36m                      \u001b[0m         interferograms in        \u001b[2m                        \u001b[0m\n",
      "\u001b[2;36m                      \u001b[0m         \u001b[35m/u/aurora-r0/staniewi/de\u001b[0m \u001b[2m                        \u001b[0m\n",
      "\u001b[2;36m                      \u001b[0m         \u001b[35mv/beta-delivery/delivery\u001b[0m \u001b[2m                        \u001b[0m\n",
      "\u001b[2;36m                      \u001b[0m         \u001b[35m_data_small/interferogra\u001b[0m \u001b[2m                        \u001b[0m\n",
      "\u001b[2;36m                      \u001b[0m         \u001b[35mms/\u001b[0m\u001b[95mstitched\u001b[0m              \u001b[2m                        \u001b[0m\n",
      "\u001b[2;36m                     \u001b[0m\u001b[2;36m \u001b[0m\u001b[34mINFO    \u001b[0m \u001b[1;36m3\u001b[0m left to unwrap                    \u001b]8;id=136185;file:///u/aurora-r0/staniewi/repos/dolphin/src/dolphin/unwrap.py\u001b\\\u001b[2munwrap.py\u001b[0m\u001b]8;;\u001b\\\u001b[2m:\u001b[0m\u001b]8;id=824633;file:///u/aurora-r0/staniewi/repos/dolphin/src/dolphin/unwrap.py#109\u001b\\\u001b[2m109\u001b[0m\u001b]8;;\u001b\\\n",
      "\u001b[2;36m[2023-10-03 10:35:45]\u001b[0m\u001b[2;36m \u001b[0m\u001b[34mINFO    \u001b[0m Logging snaphu output to            \u001b]8;id=489677;file:///u/aurora-r0/staniewi/repos/dolphin/src/dolphin/unwrap.py\u001b\\\u001b[2munwrap.py\u001b[0m\u001b]8;;\u001b\\\u001b[2m:\u001b[0m\u001b]8;id=597766;file:///u/aurora-r0/staniewi/repos/dolphin/src/dolphin/unwrap.py#388\u001b\\\u001b[2m388\u001b[0m\u001b]8;;\u001b\\\n",
      "\u001b[2;36m                      \u001b[0m         \u001b[35m/u/aurora-r0/staniewi/dev/beta-deli\u001b[0m \u001b[2m             \u001b[0m\n",
      "\u001b[2;36m                      \u001b[0m         \u001b[35mvery/delivery_data_small/unwrapped/\u001b[0m \u001b[2m             \u001b[0m\n",
      "\u001b[2;36m                      \u001b[0m         \u001b[95m20221107_20221119.unw.log\u001b[0m           \u001b[2m             \u001b[0m\n",
      "\u001b[2;36m[2023-10-03 10:43:35]\u001b[0m\u001b[2;36m \u001b[0m\u001b[34mINFO    \u001b[0m Logging snaphu output to            \u001b]8;id=733350;file:///u/aurora-r0/staniewi/repos/dolphin/src/dolphin/unwrap.py\u001b\\\u001b[2munwrap.py\u001b[0m\u001b]8;;\u001b\\\u001b[2m:\u001b[0m\u001b]8;id=91591;file:///u/aurora-r0/staniewi/repos/dolphin/src/dolphin/unwrap.py#388\u001b\\\u001b[2m388\u001b[0m\u001b]8;;\u001b\\\n",
      "\u001b[2;36m                      \u001b[0m         \u001b[35m/u/aurora-r0/staniewi/dev/beta-deli\u001b[0m \u001b[2m             \u001b[0m\n",
      "\u001b[2;36m                      \u001b[0m         \u001b[35mvery/delivery_data_small/unwrapped/\u001b[0m \u001b[2m             \u001b[0m\n",
      "\u001b[2;36m                      \u001b[0m         \u001b[95m20221107_20221201.unw.log\u001b[0m           \u001b[2m             \u001b[0m\n",
      "\u001b[2;36m[2023-10-03 10:50:25]\u001b[0m\u001b[2;36m \u001b[0m\u001b[34mINFO    \u001b[0m Logging snaphu output to            \u001b]8;id=352473;file:///u/aurora-r0/staniewi/repos/dolphin/src/dolphin/unwrap.py\u001b\\\u001b[2munwrap.py\u001b[0m\u001b]8;;\u001b\\\u001b[2m:\u001b[0m\u001b]8;id=575585;file:///u/aurora-r0/staniewi/repos/dolphin/src/dolphin/unwrap.py#388\u001b\\\u001b[2m388\u001b[0m\u001b]8;;\u001b\\\n",
      "\u001b[2;36m                      \u001b[0m         \u001b[35m/u/aurora-r0/staniewi/dev/beta-deli\u001b[0m \u001b[2m             \u001b[0m\n",
      "\u001b[2;36m                      \u001b[0m         \u001b[35mvery/delivery_data_small/unwrapped/\u001b[0m \u001b[2m             \u001b[0m\n",
      "\u001b[2;36m                      \u001b[0m         \u001b[95m20221107_20221213.unw.log\u001b[0m           \u001b[2m             \u001b[0m\n",
      "\u001b[2K  \u001b[32m3/3\u001b[0m Unwrapping... \u001b[90m━━━━━━━━━━━━━━━━━━━━━━━━━━━━━━━━━━━━━━━━\u001b[0m \u001b[35m100%\u001b[0m \u001b[33m0:00:00\u001b[0m00:00\u001b[0m\n",
      "\u001b[?25h\u001b[2;36m[2023-10-03 11:11:00]\u001b[0m\u001b[2;36m \u001b[0m\u001b[34mINFO    \u001b[0m Total elapsed time for                \u001b]8;id=424561;file:///u/aurora-r0/staniewi/repos/dolphin/src/dolphin/_log.py\u001b\\\u001b[2m_log.py\u001b[0m\u001b]8;;\u001b\\\u001b[2m:\u001b[0m\u001b]8;id=256353;file:///u/aurora-r0/staniewi/repos/dolphin/src/dolphin/_log.py#114\u001b\\\u001b[2m114\u001b[0m\u001b]8;;\u001b\\\n",
      "\u001b[2;36m                      \u001b[0m         dolphin.unwrap.run : \u001b[1;36m35.27\u001b[0m minutes    \u001b[2m           \u001b[0m\n",
      "\u001b[2;36m                      \u001b[0m         \u001b[1m(\u001b[0m\u001b[1;36m2116.46\u001b[0m seconds\u001b[1m)\u001b[0m                     \u001b[2m           \u001b[0m\n",
      "\u001b[2;36m                     \u001b[0m\u001b[2;36m \u001b[0m\u001b[34mINFO    \u001b[0m Total elapsed time for                \u001b]8;id=579773;file:///u/aurora-r0/staniewi/repos/dolphin/src/dolphin/_log.py\u001b\\\u001b[2m_log.py\u001b[0m\u001b]8;;\u001b\\\u001b[2m:\u001b[0m\u001b]8;id=396017;file:///u/aurora-r0/staniewi/repos/dolphin/src/dolphin/_log.py#114\u001b\\\u001b[2m114\u001b[0m\u001b]8;;\u001b\\\n",
      "\u001b[2;36m                      \u001b[0m         dolphin.workflows.stitch_and_unwrap.r \u001b[2m           \u001b[0m\n",
      "\u001b[2;36m                      \u001b[0m         un : \u001b[1;36m35.38\u001b[0m minutes \u001b[1m(\u001b[0m\u001b[1;36m2122.68\u001b[0m seconds\u001b[1m)\u001b[0m  \u001b[2m           \u001b[0m\n",
      "\u001b[2;36m                     \u001b[0m\u001b[2;36m \u001b[0m\u001b[34mINFO    \u001b[0m Maximum memory usage: \u001b[1;36m5.75\u001b[0m GB      \u001b]8;id=328696;file:///u/aurora-r0/staniewi/repos/dolphin/src/dolphin/workflows/s1_disp.py\u001b\\\u001b[2ms1_disp.py\u001b[0m\u001b]8;;\u001b\\\u001b[2m:\u001b[0m\u001b]8;id=861238;file:///u/aurora-r0/staniewi/repos/dolphin/src/dolphin/workflows/s1_disp.py#139\u001b\\\u001b[2m139\u001b[0m\u001b]8;;\u001b\\\n",
      "\u001b[2;36m                     \u001b[0m\u001b[2;36m \u001b[0m\u001b[34mINFO    \u001b[0m Config file dolphin version:       \u001b]8;id=751793;file:///u/aurora-r0/staniewi/repos/dolphin/src/dolphin/workflows/s1_disp.py\u001b\\\u001b[2ms1_disp.py\u001b[0m\u001b]8;;\u001b\\\u001b[2m:\u001b[0m\u001b]8;id=674700;file:///u/aurora-r0/staniewi/repos/dolphin/src/dolphin/workflows/s1_disp.py#140\u001b\\\u001b[2m140\u001b[0m\u001b]8;;\u001b\\\n",
      "\u001b[2;36m                      \u001b[0m         \u001b[1;36m0.4\u001b[0m.\u001b[1;36m1.\u001b[0mpost1.dev3+g5ab5346.d2023092 \u001b[2m              \u001b[0m\n",
      "\u001b[2;36m                      \u001b[0m         7                                  \u001b[2m              \u001b[0m\n",
      "\u001b[2;36m                     \u001b[0m\u001b[2;36m \u001b[0m\u001b[34mINFO    \u001b[0m Current running dolphin version:   \u001b]8;id=185231;file:///u/aurora-r0/staniewi/repos/dolphin/src/dolphin/workflows/s1_disp.py\u001b\\\u001b[2ms1_disp.py\u001b[0m\u001b]8;;\u001b\\\u001b[2m:\u001b[0m\u001b]8;id=458335;file:///u/aurora-r0/staniewi/repos/dolphin/src/dolphin/workflows/s1_disp.py#141\u001b\\\u001b[2m141\u001b[0m\u001b]8;;\u001b\\\n",
      "\u001b[2;36m                      \u001b[0m         \u001b[1;36m0.4\u001b[0m.\u001b[1;36m1.\u001b[0mpost1.dev3+g5ab5346.d2023092 \u001b[2m              \u001b[0m\n",
      "\u001b[2;36m                      \u001b[0m         7                                  \u001b[2m              \u001b[0m\n",
      "\u001b[2;36m                     \u001b[0m\u001b[2;36m \u001b[0m\u001b[34mINFO    \u001b[0m Total elapsed time for                \u001b]8;id=767383;file:///u/aurora-r0/staniewi/repos/dolphin/src/dolphin/_log.py\u001b\\\u001b[2m_log.py\u001b[0m\u001b]8;;\u001b\\\u001b[2m:\u001b[0m\u001b]8;id=178819;file:///u/aurora-r0/staniewi/repos/dolphin/src/dolphin/_log.py#114\u001b\\\u001b[2m114\u001b[0m\u001b]8;;\u001b\\\n",
      "\u001b[2;36m                      \u001b[0m         dolphin.workflows.s1_disp.run : \u001b[1;36m37.22\u001b[0m \u001b[2m           \u001b[0m\n",
      "\u001b[2;36m                      \u001b[0m         minutes \u001b[1m(\u001b[0m\u001b[1;36m2233.48\u001b[0m seconds\u001b[1m)\u001b[0m             \u001b[2m           \u001b[0m\n",
      "\u001b[0mCPU times: user 16.6 s, sys: 3.08 s, total: 19.7 s\n",
      "Wall time: 37min 15s\n"
     ]
    }
   ],
   "source": [
    "%%time\n",
    "!dolphin run dolphin_config.yaml"
   ]
  },
  {
   "cell_type": "code",
   "execution_count": null,
   "id": "21e50eb3-63a4-4d96-bfcb-563e80973ed0",
   "metadata": {},
   "outputs": [],
   "source": []
  },
  {
   "cell_type": "markdown",
   "id": "11b35d32-896a-4333-96b2-1e315b6c9d73",
   "metadata": {},
   "source": [
    "### Outputs\n",
    "\n",
    "For each stack of SLCs (which may be > 1 when processing COMPASS GSLCs), the workflow creates a folder for\n",
    "1. persistent scatter outputs (`PS`)\n",
    "2. linked phase optimized SLCs (`linked_phase`)\n",
    "3. (virtual) interferograms formed using the optimized SLCs (`interferograms`)\n",
    "\n",
    "Here we have two of these subdirectories named `t042_088905_iw1` and `t042_088906_iw1`.\n",
    "Additionally, you may notice\n",
    "- The `slc_stack.vrt` is a VRT file pointing to the input SLCs for that burst stack.\n",
    "- The `nodata_mask.tif` has been created from the COMPASS GSLC metadata to skip over the nan regions\n",
    "\n",
    "Last, there is a top-level directory for `interferograms` that have been stitched together, and an `unwrapped` folder for the outputs of phase unwrapping.\n",
    "\n",
    "```\n",
    "$ tree -L 2\n",
    ".\n",
    "├── dolphin_config.yaml\n",
    "├── input_slcs\n",
    "│   ├── t042_088905_iw1_20221107.h5\n",
    "│   ├── t042_088905_iw1_20221119.h5\n",
    "│   ├── t042_088905_iw1_20221201.h5\n",
    "│   ├── t042_088905_iw1_20221213.h5\n",
    "│   ├── t042_088906_iw1_20221107.h5\n",
    "│   ├── t042_088906_iw1_20221119.h5\n",
    "│   ├── t042_088906_iw1_20221201.h5\n",
    "│   └── t042_088906_iw1_20221213.h5\n",
    "├── interferograms\n",
    "│   └── stitched\n",
    "├── new_config.yaml\n",
    "├── slc_list.txt\n",
    "├── t042_088905_iw1\n",
    "│   ├── interferograms\n",
    "│   ├── linked_phase\n",
    "│   ├── nodata_mask.tif\n",
    "│   ├── PS\n",
    "│   ├── slc_stack.vrt\n",
    "│   └── unwrapped\n",
    "├── t042_088906_iw1\n",
    "│   ├── interferograms\n",
    "│   ├── linked_phase\n",
    "│   ├── nodata_mask.tif\n",
    "│   ├── PS\n",
    "│   ├── slc_stack.vrt\n",
    "│   └── unwrapped\n",
    "└── unwrapped\n",
    "    ├── 20221107_20221119.unw.conncomp\n",
    "    └── 20221107_20221119.unw.tif\n",
    "    └── ...\n",
    "\n",
    "```"
   ]
  },
  {
   "cell_type": "markdown",
   "id": "5a797186-34b7-460f-a3f1-33c81d0388a5",
   "metadata": {},
   "source": [
    "## Visualization the displacement\n",
    "\n",
    "The outputs can be plotted using any tool capable of reading GDAL-compatible rasters. You can also use the `dolphin.io.load_gdal` function for convenience.\n"
   ]
  },
  {
   "cell_type": "code",
   "execution_count": 49,
   "id": "682685f0-7e45-4cf0-80b8-6ee18da73de0",
   "metadata": {},
   "outputs": [
    {
     "name": "stdout",
     "output_type": "stream",
     "text": [
      "Found 3 interferograms\n",
      "Found 3 correlation files\n",
      "Found 3 unwrapped interferograms\n"
     ]
    }
   ],
   "source": [
    "file_list = sorted(Path(\"timeseries/\").glob(\"*.unw.tif\"))\n",
    "print(f\"Found {len(file_list)} timeseries files\")\n",
    "\n",
    "velocity_file = next(Path(\"timeseries/\").glob(\"velocity*tif\"))"
   ]
  },
  {
   "cell_type": "code",
   "execution_count": null,
   "id": "2ec31206-c2ab-4b3a-8d6a-8fcb9ab9465c",
   "metadata": {},
   "outputs": [],
   "source": [
    "from dolphin.io import load_gdal\n",
    "import matplotlib.pyplot as plt\n",
    "\n",
    "%matplotlib inline\n",
    "\n",
    "velocity = load_gdal(velocity_file)\n",
    "\n",
    "fig, ax = plt.subplots()\n",
    "ax.imshow(velocity)\n",
    "\n"
   ]
  }
 ],
 "metadata": {
  "kernelspec": {
   "display_name": "Python 3 (ipykernel)",
   "language": "python",
   "name": "python3"
  },
  "language_info": {
   "codemirror_mode": {
    "name": "ipython",
    "version": 3
   },
   "file_extension": ".py",
   "mimetype": "text/x-python",
   "name": "python",
   "nbconvert_exporter": "python",
   "pygments_lexer": "ipython3",
   "version": "3.11.6"
  },
  "vscode": {
   "interpreter": {
    "hash": "2e904e8f358a070fd0fa73a45ac9c066785dc2c1dd06304a350c3685626a56a0"
   }
  }
 },
 "nbformat": 4,
 "nbformat_minor": 5
}
